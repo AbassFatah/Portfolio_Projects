{
  "cells": [
    {
      "cell_type": "markdown",
      "metadata": {
        "id": "llVylGsjM1Bn"
      },
      "source": [
        "# Mid-Course Project\n",
        "\n",
        "\n",
        "\n",
        "### Problem Statement\n",
        "\n",
        "A multinational retail company decides to embark on a campaign called **'Operation  Increase Sales and Profit' (OISP)** which focuses on increasing the sales of the company and maximising profit. \n",
        "\n",
        "Before the management team of the company can take any actionable decision with regards to the campaign,they want to draw the necessary insight from their 'sitting data'.\n",
        "\n",
        "As their Data Analyst,you are presented with their four year daily sales records (**superstore data.csv**).\n",
        "\n",
        "#### Task\n",
        "Analyse the given  data and advise management on what to do to increase sales and profit as intended in the compaign.\n",
        "\n",
        "Kindly  outlay your analytical steps inline with CRISP-DM(Cross Industry Standard Process for Data Mining)steps, asking the nescessary questions and providing answers based on the data.\n",
        "\n",
        "\n",
        "Management expects statistical summaries of the key variables considering the aim of the campaign, visualizations and a report on your findings and your advice.\n",
        "\n",
        "**Use Powerpoint or any other presentation application for your presentation.**\n",
        "\n",
        "Good Luck !\n",
        "\n",
        "\n",
        "\n",
        "\n",
        "\n",
        "\n"
      ]
    },
    {
      "cell_type": "code",
      "execution_count": null,
      "metadata": {
        "id": "Mdux_TmJM1CE"
      },
      "outputs": [],
      "source": [
        ""
      ]
    },
    {
      "cell_type": "code",
      "execution_count": null,
      "metadata": {
        "id": "lJU7eNh9M1CH"
      },
      "outputs": [],
      "source": [
        "##Importing the necessary packages\n",
        "import pandas as pd\n",
        "import numpy as np\n",
        "import matplotlib.pyplot as plt\n",
        "import seaborn as sns\n",
        "import warnings\n",
        "import datetime as dt\n",
        "import re\n",
        "warnings.filterwarnings('ignore')\n",
        "\n",
        "%matplotlib inline\n",
        "pd.set_option('display.max_colwidth',None)\n",
        "pd.set_option('display.max_columns',None)\n"
      ]
    },
    {
      "cell_type": "code",
      "execution_count": null,
      "metadata": {
        "id": "7lxWTNTZM1CP"
      },
      "outputs": [],
      "source": [
        "#Reading the data\n",
        "#NB: Make sure you the data in your current working directory\n",
        "\n",
        "data = pd.read_csv('superstore data.csv',parse_dates = ['Order Date','Ship Date'],encoding = 'latin1')"
      ]
    },
    {
      "cell_type": "code",
      "execution_count": null,
      "metadata": {
        "id": "78FWh5MSM1CS",
        "outputId": "97668c5b-9873-4204-a1a3-3dcbabd982a0"
      },
      "outputs": [
        {
          "data": {
            "text/html": [
              "<div>\n",
              "<style scoped>\n",
              "    .dataframe tbody tr th:only-of-type {\n",
              "        vertical-align: middle;\n",
              "    }\n",
              "\n",
              "    .dataframe tbody tr th {\n",
              "        vertical-align: top;\n",
              "    }\n",
              "\n",
              "    .dataframe thead th {\n",
              "        text-align: right;\n",
              "    }\n",
              "</style>\n",
              "<table border=\"1\" class=\"dataframe\">\n",
              "  <thead>\n",
              "    <tr style=\"text-align: right;\">\n",
              "      <th></th>\n",
              "      <th>Row ID</th>\n",
              "      <th>Order ID</th>\n",
              "      <th>Order Date</th>\n",
              "      <th>Ship Date</th>\n",
              "      <th>Ship Mode</th>\n",
              "      <th>Customer ID</th>\n",
              "      <th>Customer Name</th>\n",
              "      <th>Segment</th>\n",
              "      <th>City</th>\n",
              "      <th>State</th>\n",
              "      <th>Country</th>\n",
              "      <th>Postal Code</th>\n",
              "      <th>Market</th>\n",
              "      <th>Region</th>\n",
              "      <th>Product ID</th>\n",
              "      <th>Category</th>\n",
              "      <th>Sub-Category</th>\n",
              "      <th>Product Name</th>\n",
              "      <th>Sales</th>\n",
              "      <th>Quantity</th>\n",
              "      <th>Discount</th>\n",
              "      <th>Profit</th>\n",
              "      <th>Shipping Cost</th>\n",
              "      <th>Order Priority</th>\n",
              "    </tr>\n",
              "  </thead>\n",
              "  <tbody>\n",
              "    <tr>\n",
              "      <th>0</th>\n",
              "      <td>42433</td>\n",
              "      <td>AG-2011-2040</td>\n",
              "      <td>2011-01-01</td>\n",
              "      <td>2011-06-01</td>\n",
              "      <td>Standard Class</td>\n",
              "      <td>TB-11280</td>\n",
              "      <td>Toby Braunhardt</td>\n",
              "      <td>Consumer</td>\n",
              "      <td>Constantine</td>\n",
              "      <td>Constantine</td>\n",
              "      <td>Algeria</td>\n",
              "      <td>NaN</td>\n",
              "      <td>Africa</td>\n",
              "      <td>Africa</td>\n",
              "      <td>OFF-TEN-10000025</td>\n",
              "      <td>Office Supplies</td>\n",
              "      <td>Storage</td>\n",
              "      <td>Tenex Lockers, Blue</td>\n",
              "      <td>408.300</td>\n",
              "      <td>2</td>\n",
              "      <td>0.0</td>\n",
              "      <td>106.140</td>\n",
              "      <td>35.46</td>\n",
              "      <td>Medium</td>\n",
              "    </tr>\n",
              "    <tr>\n",
              "      <th>1</th>\n",
              "      <td>22253</td>\n",
              "      <td>IN-2011-47883</td>\n",
              "      <td>2011-01-01</td>\n",
              "      <td>2011-08-01</td>\n",
              "      <td>Standard Class</td>\n",
              "      <td>JH-15985</td>\n",
              "      <td>Joseph Holt</td>\n",
              "      <td>Consumer</td>\n",
              "      <td>Wagga Wagga</td>\n",
              "      <td>New South Wales</td>\n",
              "      <td>Australia</td>\n",
              "      <td>NaN</td>\n",
              "      <td>APAC</td>\n",
              "      <td>Oceania</td>\n",
              "      <td>OFF-SU-10000618</td>\n",
              "      <td>Office Supplies</td>\n",
              "      <td>Supplies</td>\n",
              "      <td>Acme Trimmer, High Speed</td>\n",
              "      <td>120.366</td>\n",
              "      <td>3</td>\n",
              "      <td>0.1</td>\n",
              "      <td>36.036</td>\n",
              "      <td>9.72</td>\n",
              "      <td>Medium</td>\n",
              "    </tr>\n",
              "    <tr>\n",
              "      <th>2</th>\n",
              "      <td>48883</td>\n",
              "      <td>HU-2011-1220</td>\n",
              "      <td>2011-01-01</td>\n",
              "      <td>2011-05-01</td>\n",
              "      <td>Second Class</td>\n",
              "      <td>AT-735</td>\n",
              "      <td>Annie Thurman</td>\n",
              "      <td>Consumer</td>\n",
              "      <td>Budapest</td>\n",
              "      <td>Budapest</td>\n",
              "      <td>Hungary</td>\n",
              "      <td>NaN</td>\n",
              "      <td>EMEA</td>\n",
              "      <td>EMEA</td>\n",
              "      <td>OFF-TEN-10001585</td>\n",
              "      <td>Office Supplies</td>\n",
              "      <td>Storage</td>\n",
              "      <td>Tenex Box, Single Width</td>\n",
              "      <td>66.120</td>\n",
              "      <td>4</td>\n",
              "      <td>0.0</td>\n",
              "      <td>29.640</td>\n",
              "      <td>8.17</td>\n",
              "      <td>High</td>\n",
              "    </tr>\n",
              "  </tbody>\n",
              "</table>\n",
              "</div>"
            ],
            "text/plain": [
              "   Row ID       Order ID Order Date  Ship Date       Ship Mode Customer ID  \\\n",
              "0   42433   AG-2011-2040 2011-01-01 2011-06-01  Standard Class    TB-11280   \n",
              "1   22253  IN-2011-47883 2011-01-01 2011-08-01  Standard Class    JH-15985   \n",
              "2   48883   HU-2011-1220 2011-01-01 2011-05-01    Second Class      AT-735   \n",
              "\n",
              "     Customer Name   Segment         City            State    Country  \\\n",
              "0  Toby Braunhardt  Consumer  Constantine      Constantine    Algeria   \n",
              "1      Joseph Holt  Consumer  Wagga Wagga  New South Wales  Australia   \n",
              "2    Annie Thurman  Consumer     Budapest         Budapest    Hungary   \n",
              "\n",
              "   Postal Code  Market   Region        Product ID         Category  \\\n",
              "0          NaN  Africa   Africa  OFF-TEN-10000025  Office Supplies   \n",
              "1          NaN    APAC  Oceania   OFF-SU-10000618  Office Supplies   \n",
              "2          NaN    EMEA     EMEA  OFF-TEN-10001585  Office Supplies   \n",
              "\n",
              "  Sub-Category              Product Name    Sales  Quantity  Discount  \\\n",
              "0      Storage       Tenex Lockers, Blue  408.300         2       0.0   \n",
              "1     Supplies  Acme Trimmer, High Speed  120.366         3       0.1   \n",
              "2      Storage   Tenex Box, Single Width   66.120         4       0.0   \n",
              "\n",
              "    Profit  Shipping Cost Order Priority  \n",
              "0  106.140          35.46         Medium  \n",
              "1   36.036           9.72         Medium  \n",
              "2   29.640           8.17           High  "
            ]
          },
          "execution_count": 3,
          "metadata": {},
          "output_type": "execute_result"
        }
      ],
      "source": [
        "data.head(3)"
      ]
    },
    {
      "cell_type": "code",
      "execution_count": null,
      "metadata": {
        "id": "PxjKG0CgM1CW",
        "outputId": "756314a5-beab-43a9-8ec8-910c2fe8d9c7"
      },
      "outputs": [
        {
          "name": "stdout",
          "output_type": "stream",
          "text": [
            "Row ID\n",
            "Order ID\n",
            "Order Date\n",
            "Ship Date\n",
            "Ship Mode\n",
            "Customer ID\n",
            "Customer Name\n",
            "Segment\n",
            "City\n",
            "State\n",
            "Country\n",
            "Postal Code\n",
            "Market\n",
            "Region\n",
            "Product ID\n",
            "Category\n",
            "Sub-Category\n",
            "Product Name\n",
            "Sales\n",
            "Quantity\n",
            "Discount\n",
            "Profit\n",
            "Shipping Cost\n",
            "Order Priority\n"
          ]
        }
      ],
      "source": [
        "for col in data.columns:\n",
        "    print(col)"
      ]
    },
    {
      "cell_type": "markdown",
      "metadata": {
        "id": "nxYdkyeeM1Cd"
      },
      "source": [
        "### Hints on Data preparation and exploration \n",
        "\n",
        "1. Load the data.\n",
        "2. Inspect the data\n",
        "3. Check for missing values\n",
        "4. Check the data of each column\n",
        "5. Check the different categories in the categorical variables\n",
        "6. Take a view of the data\n",
        "7. Take the descritive statistics for the numerical variables\n",
        "9. Check the ditribution of the variables\n",
        "10. Feature Engineering\n",
        "#Create columns for:\n",
        "\n",
        "#Unit price (sale/quantity)\n",
        "\n",
        "#Year\n",
        "\n",
        "#Month\n",
        "\n",
        "#interval between the order date and the shipping date in days.\n"
      ]
    },
    {
      "cell_type": "markdown",
      "metadata": {
        "id": "BoFlA27SM1Ci"
      },
      "source": [
        "## Hints on the analysis "
      ]
    },
    {
      "cell_type": "markdown",
      "metadata": {
        "id": "uR2k4TocM1Ck"
      },
      "source": [
        "### Check: The following  possible questions may of interest to you.\n",
        "\n",
        "1. What is the sales and profit per market? \n",
        "\n",
        "2. What is the most and least profitable market?\n",
        "\n",
        "3. How are you going to increase the sales for the products that least bought?\n",
        "\n",
        "4. Which month does the company records more sales?\n",
        "\n",
        "5. What is the correlation between discount and sale?\n",
        "\n",
        "6. Does the shipping cost affect the sales?\n",
        "\n",
        "7. What is the dominant product category in each market?\n",
        "\n",
        "8. City with most orders for a given product category?\n",
        "\n",
        "9. which products are making loss?\n",
        "\n",
        "10. Which segment provides more profit?\n",
        "\n",
        "11. what is the correlation between quantity and profit?\n",
        "\n",
        "12. what it the correlation between shipping cost and profit?\n",
        "\n",
        "13. Which order priority yields more sales?\n",
        "\n",
        "14. What is the average shipping cost to each region?\n",
        "\n",
        "15. What product categories should be targetted to the  different markets?\n",
        "\n",
        "16. Does the interval between the order date and the shipping date affect sale and profit\n"
      ]
    },
    {
      "cell_type": "code",
      "execution_count": null,
      "metadata": {
        "id": "JdYqQaAkM1Cr"
      },
      "outputs": [],
      "source": [
        "# Print number of missing values in banking\n",
        "#print(data.isna().sum())"
      ]
    },
    {
      "cell_type": "code",
      "execution_count": null,
      "metadata": {
        "id": "_3GtqRVHM1Ct",
        "outputId": "409afe72-c061-4b7b-a4a2-dd1a510e231b"
      },
      "outputs": [
        {
          "name": "stdout",
          "output_type": "stream",
          "text": [
            "<class 'pandas.core.frame.DataFrame'>\n",
            "RangeIndex: 51290 entries, 0 to 51289\n",
            "Data columns (total 24 columns):\n",
            " #   Column          Non-Null Count  Dtype         \n",
            "---  ------          --------------  -----         \n",
            " 0   Row ID          51290 non-null  int64         \n",
            " 1   Order ID        51290 non-null  object        \n",
            " 2   Order Date      51290 non-null  datetime64[ns]\n",
            " 3   Ship Date       51290 non-null  datetime64[ns]\n",
            " 4   Ship Mode       51290 non-null  object        \n",
            " 5   Customer ID     51290 non-null  object        \n",
            " 6   Customer Name   51290 non-null  object        \n",
            " 7   Segment         51290 non-null  object        \n",
            " 8   City            51290 non-null  object        \n",
            " 9   State           51290 non-null  object        \n",
            " 10  Country         51290 non-null  object        \n",
            " 11  Postal Code     9994 non-null   float64       \n",
            " 12  Market          51290 non-null  object        \n",
            " 13  Region          51290 non-null  object        \n",
            " 14  Product ID      51290 non-null  object        \n",
            " 15  Category        51290 non-null  object        \n",
            " 16  Sub-Category    51290 non-null  object        \n",
            " 17  Product Name    51290 non-null  object        \n",
            " 18  Sales           51290 non-null  float64       \n",
            " 19  Quantity        51290 non-null  int64         \n",
            " 20  Discount        51290 non-null  float64       \n",
            " 21  Profit          51290 non-null  float64       \n",
            " 22  Shipping Cost   51290 non-null  float64       \n",
            " 23  Order Priority  51290 non-null  object        \n",
            "dtypes: datetime64[ns](2), float64(5), int64(2), object(15)\n",
            "memory usage: 9.4+ MB\n"
          ]
        }
      ],
      "source": [
        "data.info()"
      ]
    },
    {
      "cell_type": "code",
      "execution_count": null,
      "metadata": {
        "id": "FmD6KwGhM1Cx",
        "outputId": "f6d97d55-e40a-463e-d3be-7229f484528f"
      },
      "outputs": [
        {
          "data": {
            "text/html": [
              "<div>\n",
              "<style scoped>\n",
              "    .dataframe tbody tr th:only-of-type {\n",
              "        vertical-align: middle;\n",
              "    }\n",
              "\n",
              "    .dataframe tbody tr th {\n",
              "        vertical-align: top;\n",
              "    }\n",
              "\n",
              "    .dataframe thead th {\n",
              "        text-align: right;\n",
              "    }\n",
              "</style>\n",
              "<table border=\"1\" class=\"dataframe\">\n",
              "  <thead>\n",
              "    <tr style=\"text-align: right;\">\n",
              "      <th></th>\n",
              "      <th>Row ID</th>\n",
              "      <th>Order ID</th>\n",
              "      <th>Order Date</th>\n",
              "      <th>Ship Date</th>\n",
              "      <th>Ship Mode</th>\n",
              "      <th>Customer ID</th>\n",
              "      <th>Customer Name</th>\n",
              "      <th>Segment</th>\n",
              "      <th>City</th>\n",
              "      <th>State</th>\n",
              "      <th>Country</th>\n",
              "      <th>Postal Code</th>\n",
              "      <th>Market</th>\n",
              "      <th>Region</th>\n",
              "      <th>Product ID</th>\n",
              "      <th>Category</th>\n",
              "      <th>Sub-Category</th>\n",
              "      <th>Product Name</th>\n",
              "      <th>Sales</th>\n",
              "      <th>Quantity</th>\n",
              "      <th>Discount</th>\n",
              "      <th>Profit</th>\n",
              "      <th>Shipping Cost</th>\n",
              "      <th>Order Priority</th>\n",
              "    </tr>\n",
              "  </thead>\n",
              "  <tbody>\n",
              "    <tr>\n",
              "      <th>0</th>\n",
              "      <td>42433</td>\n",
              "      <td>AG-2011-2040</td>\n",
              "      <td>2011-01-01</td>\n",
              "      <td>2011-06-01</td>\n",
              "      <td>Standard Class</td>\n",
              "      <td>TB-11280</td>\n",
              "      <td>Toby Braunhardt</td>\n",
              "      <td>Consumer</td>\n",
              "      <td>Constantine</td>\n",
              "      <td>Constantine</td>\n",
              "      <td>Algeria</td>\n",
              "      <td>NaN</td>\n",
              "      <td>Africa</td>\n",
              "      <td>Africa</td>\n",
              "      <td>OFF-TEN-10000025</td>\n",
              "      <td>Office Supplies</td>\n",
              "      <td>Storage</td>\n",
              "      <td>Tenex Lockers, Blue</td>\n",
              "      <td>408.300</td>\n",
              "      <td>2</td>\n",
              "      <td>0.0</td>\n",
              "      <td>106.140</td>\n",
              "      <td>35.46</td>\n",
              "      <td>Medium</td>\n",
              "    </tr>\n",
              "    <tr>\n",
              "      <th>1</th>\n",
              "      <td>22253</td>\n",
              "      <td>IN-2011-47883</td>\n",
              "      <td>2011-01-01</td>\n",
              "      <td>2011-08-01</td>\n",
              "      <td>Standard Class</td>\n",
              "      <td>JH-15985</td>\n",
              "      <td>Joseph Holt</td>\n",
              "      <td>Consumer</td>\n",
              "      <td>Wagga Wagga</td>\n",
              "      <td>New South Wales</td>\n",
              "      <td>Australia</td>\n",
              "      <td>NaN</td>\n",
              "      <td>APAC</td>\n",
              "      <td>Oceania</td>\n",
              "      <td>OFF-SU-10000618</td>\n",
              "      <td>Office Supplies</td>\n",
              "      <td>Supplies</td>\n",
              "      <td>Acme Trimmer, High Speed</td>\n",
              "      <td>120.366</td>\n",
              "      <td>3</td>\n",
              "      <td>0.1</td>\n",
              "      <td>36.036</td>\n",
              "      <td>9.72</td>\n",
              "      <td>Medium</td>\n",
              "    </tr>\n",
              "    <tr>\n",
              "      <th>2</th>\n",
              "      <td>48883</td>\n",
              "      <td>HU-2011-1220</td>\n",
              "      <td>2011-01-01</td>\n",
              "      <td>2011-05-01</td>\n",
              "      <td>Second Class</td>\n",
              "      <td>AT-735</td>\n",
              "      <td>Annie Thurman</td>\n",
              "      <td>Consumer</td>\n",
              "      <td>Budapest</td>\n",
              "      <td>Budapest</td>\n",
              "      <td>Hungary</td>\n",
              "      <td>NaN</td>\n",
              "      <td>EMEA</td>\n",
              "      <td>EMEA</td>\n",
              "      <td>OFF-TEN-10001585</td>\n",
              "      <td>Office Supplies</td>\n",
              "      <td>Storage</td>\n",
              "      <td>Tenex Box, Single Width</td>\n",
              "      <td>66.120</td>\n",
              "      <td>4</td>\n",
              "      <td>0.0</td>\n",
              "      <td>29.640</td>\n",
              "      <td>8.17</td>\n",
              "      <td>High</td>\n",
              "    </tr>\n",
              "    <tr>\n",
              "      <th>3</th>\n",
              "      <td>11731</td>\n",
              "      <td>IT-2011-3647632</td>\n",
              "      <td>2011-01-01</td>\n",
              "      <td>2011-05-01</td>\n",
              "      <td>Second Class</td>\n",
              "      <td>EM-14140</td>\n",
              "      <td>Eugene Moren</td>\n",
              "      <td>Home Office</td>\n",
              "      <td>Stockholm</td>\n",
              "      <td>Stockholm</td>\n",
              "      <td>Sweden</td>\n",
              "      <td>NaN</td>\n",
              "      <td>EU</td>\n",
              "      <td>North</td>\n",
              "      <td>OFF-PA-10001492</td>\n",
              "      <td>Office Supplies</td>\n",
              "      <td>Paper</td>\n",
              "      <td>Enermax Note Cards, Premium</td>\n",
              "      <td>44.865</td>\n",
              "      <td>3</td>\n",
              "      <td>0.5</td>\n",
              "      <td>-26.055</td>\n",
              "      <td>4.82</td>\n",
              "      <td>High</td>\n",
              "    </tr>\n",
              "    <tr>\n",
              "      <th>4</th>\n",
              "      <td>22255</td>\n",
              "      <td>IN-2011-47883</td>\n",
              "      <td>2011-01-01</td>\n",
              "      <td>2011-08-01</td>\n",
              "      <td>Standard Class</td>\n",
              "      <td>JH-15985</td>\n",
              "      <td>Joseph Holt</td>\n",
              "      <td>Consumer</td>\n",
              "      <td>Wagga Wagga</td>\n",
              "      <td>New South Wales</td>\n",
              "      <td>Australia</td>\n",
              "      <td>NaN</td>\n",
              "      <td>APAC</td>\n",
              "      <td>Oceania</td>\n",
              "      <td>FUR-FU-10003447</td>\n",
              "      <td>Furniture</td>\n",
              "      <td>Furnishings</td>\n",
              "      <td>Eldon Light Bulb, Duo Pack</td>\n",
              "      <td>113.670</td>\n",
              "      <td>5</td>\n",
              "      <td>0.1</td>\n",
              "      <td>37.770</td>\n",
              "      <td>4.70</td>\n",
              "      <td>Medium</td>\n",
              "    </tr>\n",
              "  </tbody>\n",
              "</table>\n",
              "</div>"
            ],
            "text/plain": [
              "   Row ID         Order ID Order Date  Ship Date       Ship Mode Customer ID  \\\n",
              "0   42433     AG-2011-2040 2011-01-01 2011-06-01  Standard Class    TB-11280   \n",
              "1   22253    IN-2011-47883 2011-01-01 2011-08-01  Standard Class    JH-15985   \n",
              "2   48883     HU-2011-1220 2011-01-01 2011-05-01    Second Class      AT-735   \n",
              "3   11731  IT-2011-3647632 2011-01-01 2011-05-01    Second Class    EM-14140   \n",
              "4   22255    IN-2011-47883 2011-01-01 2011-08-01  Standard Class    JH-15985   \n",
              "\n",
              "     Customer Name      Segment         City            State    Country  \\\n",
              "0  Toby Braunhardt     Consumer  Constantine      Constantine    Algeria   \n",
              "1      Joseph Holt     Consumer  Wagga Wagga  New South Wales  Australia   \n",
              "2    Annie Thurman     Consumer     Budapest         Budapest    Hungary   \n",
              "3     Eugene Moren  Home Office    Stockholm        Stockholm     Sweden   \n",
              "4      Joseph Holt     Consumer  Wagga Wagga  New South Wales  Australia   \n",
              "\n",
              "   Postal Code  Market   Region        Product ID         Category  \\\n",
              "0          NaN  Africa   Africa  OFF-TEN-10000025  Office Supplies   \n",
              "1          NaN    APAC  Oceania   OFF-SU-10000618  Office Supplies   \n",
              "2          NaN    EMEA     EMEA  OFF-TEN-10001585  Office Supplies   \n",
              "3          NaN      EU    North   OFF-PA-10001492  Office Supplies   \n",
              "4          NaN    APAC  Oceania   FUR-FU-10003447        Furniture   \n",
              "\n",
              "  Sub-Category                 Product Name    Sales  Quantity  Discount  \\\n",
              "0      Storage          Tenex Lockers, Blue  408.300         2       0.0   \n",
              "1     Supplies     Acme Trimmer, High Speed  120.366         3       0.1   \n",
              "2      Storage      Tenex Box, Single Width   66.120         4       0.0   \n",
              "3        Paper  Enermax Note Cards, Premium   44.865         3       0.5   \n",
              "4  Furnishings   Eldon Light Bulb, Duo Pack  113.670         5       0.1   \n",
              "\n",
              "    Profit  Shipping Cost Order Priority  \n",
              "0  106.140          35.46         Medium  \n",
              "1   36.036           9.72         Medium  \n",
              "2   29.640           8.17           High  \n",
              "3  -26.055           4.82           High  \n",
              "4   37.770           4.70         Medium  "
            ]
          },
          "execution_count": 7,
          "metadata": {},
          "output_type": "execute_result"
        }
      ],
      "source": [
        "data.head()"
      ]
    },
    {
      "cell_type": "code",
      "execution_count": null,
      "metadata": {
        "id": "deeHMHmbM1C4",
        "outputId": "2a2f540a-c131-4c95-cafa-d5d91b3af61e"
      },
      "outputs": [
        {
          "data": {
            "text/plain": [
              "['Row ID',\n",
              " 'Order ID',\n",
              " 'Order Date',\n",
              " 'Ship Date',\n",
              " 'Ship Mode',\n",
              " 'Customer ID',\n",
              " 'Customer Name',\n",
              " 'Segment',\n",
              " 'City',\n",
              " 'State',\n",
              " 'Country',\n",
              " 'Postal Code',\n",
              " 'Market',\n",
              " 'Region',\n",
              " 'Product ID',\n",
              " 'Category',\n",
              " 'Sub-Category',\n",
              " 'Product Name',\n",
              " 'Sales',\n",
              " 'Quantity',\n",
              " 'Discount',\n",
              " 'Profit',\n",
              " 'Shipping Cost',\n",
              " 'Order Priority']"
            ]
          },
          "execution_count": 8,
          "metadata": {},
          "output_type": "execute_result"
        }
      ],
      "source": [
        "data.columns.to_list()"
      ]
    },
    {
      "cell_type": "code",
      "execution_count": null,
      "metadata": {
        "id": "uSb6hpeoM1C6",
        "outputId": "0ed5af30-db8d-4f91-c306-a0d215f97148"
      },
      "outputs": [
        {
          "name": "stdout",
          "output_type": "stream",
          "text": [
            "Series([], Name: Shipping Cost, dtype: float64)\n"
          ]
        }
      ],
      "source": [
        "# Shipping cost\n",
        "#Try changing the variable to numery type\n",
        "# Checking if there are other values apart from floats\n",
        "numeric_vals = pd.to_numeric(data['Shipping Cost'],errors = 'coerce')\n",
        "idx = numeric_vals.isna()\n",
        "print(data['Shipping Cost'][idx])"
      ]
    },
    {
      "cell_type": "code",
      "execution_count": null,
      "metadata": {
        "id": "wPeDluLwM1C_",
        "outputId": "ea40fb26-67df-458a-fb91-0d953327b3c1"
      },
      "outputs": [
        {
          "name": "stdout",
          "output_type": "stream",
          "text": [
            "Series([], Name: Profit, dtype: float64)\n"
          ]
        }
      ],
      "source": [
        "# Profit\n",
        "#Try changing the variable to numery type\n",
        "# Checking if there are other values apart from floats\n",
        "numeric_vals_profit = pd.to_numeric(data['Profit'],errors = 'coerce')\n",
        "idxx = numeric_vals_profit.isna()\n",
        "print(data['Profit'][idxx])"
      ]
    },
    {
      "cell_type": "code",
      "execution_count": null,
      "metadata": {
        "id": "r3bNqleeM1DB",
        "outputId": "035a4bb4-7f4a-4eac-f94b-326e7b5eeacf"
      },
      "outputs": [
        {
          "name": "stdout",
          "output_type": "stream",
          "text": [
            "Series([], Name: Quantity, dtype: int64)\n"
          ]
        }
      ],
      "source": [
        "# Quantity\n",
        "#Try changing the variable to numery type\n",
        "# Checking if there are other values apart from floats\n",
        "numeric_vals_quantity = pd.to_numeric(data['Quantity'],errors = 'coerce')\n",
        "idxxx = numeric_vals_quantity.isna()\n",
        "print(data['Quantity'][idxxx])"
      ]
    },
    {
      "cell_type": "code",
      "execution_count": null,
      "metadata": {
        "id": "h72bShFqM1DD",
        "outputId": "f35ad930-a3cc-4ed2-f68a-1772cd52e3b3"
      },
      "outputs": [
        {
          "name": "stdout",
          "output_type": "stream",
          "text": [
            "Series([], Name: Sales, dtype: float64)\n"
          ]
        }
      ],
      "source": [
        "# Sales\n",
        "#Try changing the variable to numery type\n",
        "# Checking if there are other values apart from floats\n",
        "numeric_vals_sales = pd.to_numeric(data['Sales'],errors = 'coerce')\n",
        "idxxxx = numeric_vals_sales.isna()\n",
        "print(data['Sales'][idxxxx])"
      ]
    },
    {
      "cell_type": "code",
      "execution_count": null,
      "metadata": {
        "id": "sgp0tzD2M1DN",
        "outputId": "2c9d0c50-6fc5-4923-d9a0-380010000bf5"
      },
      "outputs": [
        {
          "name": "stdout",
          "output_type": "stream",
          "text": [
            "Series([], Name: Discount, dtype: float64)\n"
          ]
        }
      ],
      "source": [
        "# Discount\n",
        "#Try changing the variable to numery type\n",
        "# Checking if there are other values apart from floats\n",
        "numeric_vals_discount = pd.to_numeric(data['Discount'],errors = 'coerce')\n",
        "idxxxxx = numeric_vals_discount.isna()\n",
        "print(data['Discount'][idxxxxx])"
      ]
    },
    {
      "cell_type": "code",
      "execution_count": null,
      "metadata": {
        "id": "wFUXHeVuM1DP"
      },
      "outputs": [],
      "source": [
        "# Checking the Categorical variables"
      ]
    },
    {
      "cell_type": "code",
      "execution_count": null,
      "metadata": {
        "id": "0jKV1GStM1DR",
        "outputId": "d7f86b12-4e81-4412-fc50-06b3780c0154"
      },
      "outputs": [
        {
          "name": "stdout",
          "output_type": "stream",
          "text": [
            "['Africa' 'Oceania' 'EMEA' 'North' 'Central Asia' 'West' 'North Asia'\n",
            " 'Central' 'South' 'Canada' 'Southeast Asia' 'East' 'Caribbean']\n"
          ]
        }
      ],
      "source": [
        "print(data['Region'].unique())"
      ]
    },
    {
      "cell_type": "code",
      "execution_count": null,
      "metadata": {
        "id": "qzct5JwvM1Dc",
        "outputId": "fb95fb49-f184-4b1a-c979-7d6e893ca023"
      },
      "outputs": [
        {
          "name": "stdout",
          "output_type": "stream",
          "text": [
            "['Africa' 'APAC' 'EMEA' 'EU' 'US' 'LATAM' 'Canada']\n"
          ]
        }
      ],
      "source": [
        "print(data['Market'].unique())"
      ]
    },
    {
      "cell_type": "code",
      "execution_count": null,
      "metadata": {
        "id": "58dDqoUBM1De",
        "outputId": "0f9fcff7-f333-40c5-d282-cb40d83467f9"
      },
      "outputs": [
        {
          "name": "stdout",
          "output_type": "stream",
          "text": [
            "['Standard Class' 'Second Class' 'First Class' 'Same Day']\n"
          ]
        }
      ],
      "source": [
        "print(data['Ship Mode'].unique())"
      ]
    },
    {
      "cell_type": "code",
      "execution_count": null,
      "metadata": {
        "id": "GRLPYrj4M1Dg",
        "outputId": "de464774-7b6e-46cb-e074-f30ad7705581"
      },
      "outputs": [
        {
          "name": "stdout",
          "output_type": "stream",
          "text": [
            "['Africa' 'APAC' 'EMEA' 'EU' 'US' 'LATAM' 'Canada']\n"
          ]
        }
      ],
      "source": [
        "print(data['Market'].unique())"
      ]
    },
    {
      "cell_type": "code",
      "execution_count": null,
      "metadata": {
        "id": "ZIi4GGlPM1D-",
        "outputId": "99ed50f7-0101-409a-8be5-39f6053f030c"
      },
      "outputs": [
        {
          "name": "stdout",
          "output_type": "stream",
          "text": [
            "['Consumer' 'Home Office' 'Corporate']\n"
          ]
        }
      ],
      "source": [
        "print(data['Segment'].unique())"
      ]
    },
    {
      "cell_type": "code",
      "execution_count": null,
      "metadata": {
        "id": "Da6LQThHM1EJ",
        "outputId": "4b45bc63-d0d7-4d7b-923a-72090c7da271"
      },
      "outputs": [
        {
          "name": "stdout",
          "output_type": "stream",
          "text": [
            "['Storage' 'Supplies' 'Paper' 'Furnishings' 'Copiers' 'Bookcases'\n",
            " 'Appliances' 'Art' 'Accessories' 'Binders' 'Labels' 'Envelopes' 'Chairs'\n",
            " 'Machines' 'Tables' 'Phones' 'Fasteners']\n"
          ]
        }
      ],
      "source": [
        "print(data['Sub-Category'].unique())"
      ]
    },
    {
      "cell_type": "code",
      "execution_count": null,
      "metadata": {
        "id": "OFI5hm_UM1EK",
        "outputId": "e7343a43-40e3-4ff3-ca3a-63ee76d9bbab"
      },
      "outputs": [
        {
          "name": "stdout",
          "output_type": "stream",
          "text": [
            "['Medium' 'High' 'Critical' 'Low']\n"
          ]
        }
      ],
      "source": [
        "print(data['Order Priority'].unique())"
      ]
    },
    {
      "cell_type": "code",
      "execution_count": null,
      "metadata": {
        "id": "5trUrHaZM1EU"
      },
      "outputs": [],
      "source": [
        "# Changing the Category Variable to a category and also the sub categories to categories\n",
        "data['Category'] = data['Category'].astype('category') \n",
        "data['Region'] = data['Region'].astype('category')\n",
        "data['Ship Mode'] = data['Ship Mode'].astype('category')\n",
        "data['Market'] = data['Market'].astype('category')\n",
        "data['Segment'] = data['Segment'].astype('category')\n",
        "data['Sub-Category'] = data['Sub-Category'].astype('category')\n",
        "data['Order Priority'] = data['Order Priority'].astype('category')\n",
        "#data['Category'].head()"
      ]
    },
    {
      "cell_type": "code",
      "execution_count": null,
      "metadata": {
        "id": "zdrCXy4PM1EV"
      },
      "outputs": [],
      "source": [
        ""
      ]
    },
    {
      "cell_type": "code",
      "execution_count": null,
      "metadata": {
        "id": "3RR3YHsLM1EW",
        "outputId": "54b5992e-44e2-4475-99e5-23c448cf0076"
      },
      "outputs": [
        {
          "data": {
            "text/html": [
              "<div>\n",
              "<style scoped>\n",
              "    .dataframe tbody tr th:only-of-type {\n",
              "        vertical-align: middle;\n",
              "    }\n",
              "\n",
              "    .dataframe tbody tr th {\n",
              "        vertical-align: top;\n",
              "    }\n",
              "\n",
              "    .dataframe thead th {\n",
              "        text-align: right;\n",
              "    }\n",
              "</style>\n",
              "<table border=\"1\" class=\"dataframe\">\n",
              "  <thead>\n",
              "    <tr style=\"text-align: right;\">\n",
              "      <th></th>\n",
              "      <th>count</th>\n",
              "      <th>unique</th>\n",
              "      <th>top</th>\n",
              "      <th>freq</th>\n",
              "    </tr>\n",
              "  </thead>\n",
              "  <tbody>\n",
              "    <tr>\n",
              "      <th>Order ID</th>\n",
              "      <td>51290</td>\n",
              "      <td>25035</td>\n",
              "      <td>CA-2014-100111</td>\n",
              "      <td>14</td>\n",
              "    </tr>\n",
              "    <tr>\n",
              "      <th>Customer ID</th>\n",
              "      <td>51290</td>\n",
              "      <td>1590</td>\n",
              "      <td>PO-18850</td>\n",
              "      <td>97</td>\n",
              "    </tr>\n",
              "    <tr>\n",
              "      <th>Customer Name</th>\n",
              "      <td>51290</td>\n",
              "      <td>795</td>\n",
              "      <td>Muhammed Yedwab</td>\n",
              "      <td>108</td>\n",
              "    </tr>\n",
              "    <tr>\n",
              "      <th>City</th>\n",
              "      <td>51290</td>\n",
              "      <td>3636</td>\n",
              "      <td>New York City</td>\n",
              "      <td>915</td>\n",
              "    </tr>\n",
              "    <tr>\n",
              "      <th>State</th>\n",
              "      <td>51290</td>\n",
              "      <td>1094</td>\n",
              "      <td>California</td>\n",
              "      <td>2001</td>\n",
              "    </tr>\n",
              "    <tr>\n",
              "      <th>Country</th>\n",
              "      <td>51290</td>\n",
              "      <td>147</td>\n",
              "      <td>United States</td>\n",
              "      <td>9994</td>\n",
              "    </tr>\n",
              "    <tr>\n",
              "      <th>Product ID</th>\n",
              "      <td>51290</td>\n",
              "      <td>10292</td>\n",
              "      <td>OFF-AR-10003651</td>\n",
              "      <td>35</td>\n",
              "    </tr>\n",
              "    <tr>\n",
              "      <th>Product Name</th>\n",
              "      <td>51290</td>\n",
              "      <td>3788</td>\n",
              "      <td>Staples</td>\n",
              "      <td>227</td>\n",
              "    </tr>\n",
              "  </tbody>\n",
              "</table>\n",
              "</div>"
            ],
            "text/plain": [
              "               count unique              top  freq\n",
              "Order ID       51290  25035   CA-2014-100111    14\n",
              "Customer ID    51290   1590         PO-18850    97\n",
              "Customer Name  51290    795  Muhammed Yedwab   108\n",
              "City           51290   3636    New York City   915\n",
              "State          51290   1094       California  2001\n",
              "Country        51290    147    United States  9994\n",
              "Product ID     51290  10292  OFF-AR-10003651    35\n",
              "Product Name   51290   3788          Staples   227"
            ]
          },
          "execution_count": 23,
          "metadata": {},
          "output_type": "execute_result"
        }
      ],
      "source": [
        "# Describing the variables with dtype object\n",
        "des_object = data.describe(include=[object])\n",
        "des_object.T"
      ]
    },
    {
      "cell_type": "code",
      "execution_count": null,
      "metadata": {
        "id": "TLsAHFe1M1Ef",
        "outputId": "f0cf7b15-1d37-49c9-c951-395e876964ed"
      },
      "outputs": [
        {
          "data": {
            "text/html": [
              "<div>\n",
              "<style scoped>\n",
              "    .dataframe tbody tr th:only-of-type {\n",
              "        vertical-align: middle;\n",
              "    }\n",
              "\n",
              "    .dataframe tbody tr th {\n",
              "        vertical-align: top;\n",
              "    }\n",
              "\n",
              "    .dataframe thead th {\n",
              "        text-align: right;\n",
              "    }\n",
              "</style>\n",
              "<table border=\"1\" class=\"dataframe\">\n",
              "  <thead>\n",
              "    <tr style=\"text-align: right;\">\n",
              "      <th></th>\n",
              "      <th>count</th>\n",
              "      <th>mean</th>\n",
              "      <th>std</th>\n",
              "      <th>min</th>\n",
              "      <th>25%</th>\n",
              "      <th>50%</th>\n",
              "      <th>75%</th>\n",
              "      <th>max</th>\n",
              "    </tr>\n",
              "  </thead>\n",
              "  <tbody>\n",
              "    <tr>\n",
              "      <th>Row ID</th>\n",
              "      <td>51290.0</td>\n",
              "      <td>25645.500000</td>\n",
              "      <td>14806.291990</td>\n",
              "      <td>1.000</td>\n",
              "      <td>12823.250000</td>\n",
              "      <td>25645.500</td>\n",
              "      <td>38467.7500</td>\n",
              "      <td>51290.000</td>\n",
              "    </tr>\n",
              "    <tr>\n",
              "      <th>Postal Code</th>\n",
              "      <td>9994.0</td>\n",
              "      <td>55190.379428</td>\n",
              "      <td>32063.693350</td>\n",
              "      <td>1040.000</td>\n",
              "      <td>23223.000000</td>\n",
              "      <td>56430.500</td>\n",
              "      <td>90008.0000</td>\n",
              "      <td>99301.000</td>\n",
              "    </tr>\n",
              "    <tr>\n",
              "      <th>Sales</th>\n",
              "      <td>51290.0</td>\n",
              "      <td>246.490581</td>\n",
              "      <td>487.565361</td>\n",
              "      <td>0.444</td>\n",
              "      <td>30.758625</td>\n",
              "      <td>85.053</td>\n",
              "      <td>251.0532</td>\n",
              "      <td>22638.480</td>\n",
              "    </tr>\n",
              "    <tr>\n",
              "      <th>Quantity</th>\n",
              "      <td>51290.0</td>\n",
              "      <td>3.476545</td>\n",
              "      <td>2.278766</td>\n",
              "      <td>1.000</td>\n",
              "      <td>2.000000</td>\n",
              "      <td>3.000</td>\n",
              "      <td>5.0000</td>\n",
              "      <td>14.000</td>\n",
              "    </tr>\n",
              "    <tr>\n",
              "      <th>Discount</th>\n",
              "      <td>51290.0</td>\n",
              "      <td>0.142908</td>\n",
              "      <td>0.212280</td>\n",
              "      <td>0.000</td>\n",
              "      <td>0.000000</td>\n",
              "      <td>0.000</td>\n",
              "      <td>0.2000</td>\n",
              "      <td>0.850</td>\n",
              "    </tr>\n",
              "    <tr>\n",
              "      <th>Profit</th>\n",
              "      <td>51290.0</td>\n",
              "      <td>28.610982</td>\n",
              "      <td>174.340972</td>\n",
              "      <td>-6599.978</td>\n",
              "      <td>0.000000</td>\n",
              "      <td>9.240</td>\n",
              "      <td>36.8100</td>\n",
              "      <td>8399.976</td>\n",
              "    </tr>\n",
              "    <tr>\n",
              "      <th>Shipping Cost</th>\n",
              "      <td>51290.0</td>\n",
              "      <td>26.375915</td>\n",
              "      <td>57.296804</td>\n",
              "      <td>0.000</td>\n",
              "      <td>2.610000</td>\n",
              "      <td>7.790</td>\n",
              "      <td>24.4500</td>\n",
              "      <td>933.570</td>\n",
              "    </tr>\n",
              "  </tbody>\n",
              "</table>\n",
              "</div>"
            ],
            "text/plain": [
              "                 count          mean           std       min           25%  \\\n",
              "Row ID         51290.0  25645.500000  14806.291990     1.000  12823.250000   \n",
              "Postal Code     9994.0  55190.379428  32063.693350  1040.000  23223.000000   \n",
              "Sales          51290.0    246.490581    487.565361     0.444     30.758625   \n",
              "Quantity       51290.0      3.476545      2.278766     1.000      2.000000   \n",
              "Discount       51290.0      0.142908      0.212280     0.000      0.000000   \n",
              "Profit         51290.0     28.610982    174.340972 -6599.978      0.000000   \n",
              "Shipping Cost  51290.0     26.375915     57.296804     0.000      2.610000   \n",
              "\n",
              "                     50%         75%        max  \n",
              "Row ID         25645.500  38467.7500  51290.000  \n",
              "Postal Code    56430.500  90008.0000  99301.000  \n",
              "Sales             85.053    251.0532  22638.480  \n",
              "Quantity           3.000      5.0000     14.000  \n",
              "Discount           0.000      0.2000      0.850  \n",
              "Profit             9.240     36.8100   8399.976  \n",
              "Shipping Cost      7.790     24.4500    933.570  "
            ]
          },
          "execution_count": 24,
          "metadata": {},
          "output_type": "execute_result"
        }
      ],
      "source": [
        "des_numeric = data.describe(include=[np.number])\n",
        "des_numeric.T"
      ]
    },
    {
      "cell_type": "code",
      "execution_count": null,
      "metadata": {
        "id": "H9z590W8M1Eg",
        "outputId": "fea31479-8609-4c5c-8f72-b38ed196a900"
      },
      "outputs": [
        {
          "data": {
            "text/html": [
              "<div>\n",
              "<style scoped>\n",
              "    .dataframe tbody tr th:only-of-type {\n",
              "        vertical-align: middle;\n",
              "    }\n",
              "\n",
              "    .dataframe tbody tr th {\n",
              "        vertical-align: top;\n",
              "    }\n",
              "\n",
              "    .dataframe thead th {\n",
              "        text-align: right;\n",
              "    }\n",
              "</style>\n",
              "<table border=\"1\" class=\"dataframe\">\n",
              "  <thead>\n",
              "    <tr style=\"text-align: right;\">\n",
              "      <th></th>\n",
              "      <th>count</th>\n",
              "      <th>unique</th>\n",
              "      <th>top</th>\n",
              "      <th>freq</th>\n",
              "    </tr>\n",
              "  </thead>\n",
              "  <tbody>\n",
              "    <tr>\n",
              "      <th>Ship Mode</th>\n",
              "      <td>51290</td>\n",
              "      <td>4</td>\n",
              "      <td>Standard Class</td>\n",
              "      <td>30775</td>\n",
              "    </tr>\n",
              "    <tr>\n",
              "      <th>Segment</th>\n",
              "      <td>51290</td>\n",
              "      <td>3</td>\n",
              "      <td>Consumer</td>\n",
              "      <td>26518</td>\n",
              "    </tr>\n",
              "    <tr>\n",
              "      <th>Market</th>\n",
              "      <td>51290</td>\n",
              "      <td>7</td>\n",
              "      <td>APAC</td>\n",
              "      <td>11002</td>\n",
              "    </tr>\n",
              "    <tr>\n",
              "      <th>Region</th>\n",
              "      <td>51290</td>\n",
              "      <td>13</td>\n",
              "      <td>Central</td>\n",
              "      <td>11117</td>\n",
              "    </tr>\n",
              "    <tr>\n",
              "      <th>Category</th>\n",
              "      <td>51290</td>\n",
              "      <td>3</td>\n",
              "      <td>Office Supplies</td>\n",
              "      <td>31273</td>\n",
              "    </tr>\n",
              "    <tr>\n",
              "      <th>Sub-Category</th>\n",
              "      <td>51290</td>\n",
              "      <td>17</td>\n",
              "      <td>Binders</td>\n",
              "      <td>6152</td>\n",
              "    </tr>\n",
              "    <tr>\n",
              "      <th>Order Priority</th>\n",
              "      <td>51290</td>\n",
              "      <td>4</td>\n",
              "      <td>Medium</td>\n",
              "      <td>29433</td>\n",
              "    </tr>\n",
              "  </tbody>\n",
              "</table>\n",
              "</div>"
            ],
            "text/plain": [
              "                count unique              top   freq\n",
              "Ship Mode       51290      4   Standard Class  30775\n",
              "Segment         51290      3         Consumer  26518\n",
              "Market          51290      7             APAC  11002\n",
              "Region          51290     13          Central  11117\n",
              "Category        51290      3  Office Supplies  31273\n",
              "Sub-Category    51290     17          Binders   6152\n",
              "Order Priority  51290      4           Medium  29433"
            ]
          },
          "execution_count": 25,
          "metadata": {},
          "output_type": "execute_result"
        }
      ],
      "source": [
        "des_category = data.describe(include=['category'])\n",
        "des_category.T"
      ]
    },
    {
      "cell_type": "code",
      "execution_count": null,
      "metadata": {
        "id": "HgC0fi-vM1Ei",
        "outputId": "b410d12b-9db0-4da3-cfb0-14a153dedf7e"
      },
      "outputs": [
        {
          "name": "stdout",
          "output_type": "stream",
          "text": [
            "Row ID                0\n",
            "Order ID              0\n",
            "Order Date            0\n",
            "Ship Date             0\n",
            "Ship Mode             0\n",
            "Customer ID           0\n",
            "Customer Name         0\n",
            "Segment               0\n",
            "City                  0\n",
            "State                 0\n",
            "Country               0\n",
            "Postal Code       41296\n",
            "Market                0\n",
            "Region                0\n",
            "Product ID            0\n",
            "Category              0\n",
            "Sub-Category          0\n",
            "Product Name          0\n",
            "Sales                 0\n",
            "Quantity              0\n",
            "Discount              0\n",
            "Profit                0\n",
            "Shipping Cost         0\n",
            "Order Priority        0\n",
            "dtype: int64\n"
          ]
        }
      ],
      "source": [
        "# Print number of missing values in banking\n",
        "print(data.isna().sum())"
      ]
    },
    {
      "cell_type": "code",
      "execution_count": null,
      "metadata": {
        "id": "AwEeZSYRM1Er"
      },
      "outputs": [],
      "source": [
        "# Creating the unit price column\n",
        "data['Unit_Price'] = round(data['Sales']/data['Quantity'],3)\n"
      ]
    },
    {
      "cell_type": "code",
      "execution_count": null,
      "metadata": {
        "id": "mt8XTb-OM1Es"
      },
      "outputs": [],
      "source": [
        "# Creating the year and month column\n",
        "data['Year'] = data['Order Date'].dt.year\n",
        "data['Month'] = data['Order Date'].dt.month"
      ]
    },
    {
      "cell_type": "code",
      "execution_count": null,
      "metadata": {
        "run_control": {
          "marked": false
        },
        "id": "p6oo2z8xM1Et"
      },
      "outputs": [],
      "source": [
        "# Finding the intervals between the ship date and order date\n",
        "data['Intervals'] = data['Ship Date'] - data['Order Date']\n",
        "data['Intervals'] = data['Intervals'].astype('str')\n",
        "data['Intervals'] = data['Intervals'].str.strip('days').astype('int')"
      ]
    },
    {
      "cell_type": "code",
      "execution_count": null,
      "metadata": {
        "scrolled": true,
        "id": "TByZZXE4M1E0",
        "outputId": "042b5c04-b013-4280-b056-ad877f9e636e"
      },
      "outputs": [
        {
          "data": {
            "text/plain": [
              "array([2011, 2012, 2013, 2014], dtype=int64)"
            ]
          },
          "execution_count": 30,
          "metadata": {},
          "output_type": "execute_result"
        }
      ],
      "source": [
        "data['Year'].unique()"
      ]
    },
    {
      "cell_type": "code",
      "execution_count": null,
      "metadata": {
        "id": "uzGPZeh-M1E2",
        "outputId": "f9f8e90b-0338-4e5e-8ca3-451b4ccf4531"
      },
      "outputs": [
        {
          "data": {
            "image/png": "[encoded data removed]",
            "text/plain": [
              "<Figure size 720x720 with 1 Axes>"
            ]
          },
          "metadata": {
            "needs_background": "light"
          },
          "output_type": "display_data"
        }
      ],
      "source": [
        "data.boxplot(figsize=(10,10))\n",
        "plt.show()"
      ]
    },
    {
      "cell_type": "markdown",
      "metadata": {
        "id": "dQ94EoU6M1E3"
      },
      "source": [
        "# Analysis"
      ]
    },
    {
      "cell_type": "code",
      "execution_count": null,
      "metadata": {
        "id": "G5wn7yzCM1E4",
        "outputId": "57d7f5e8-dc28-4a9a-eb9c-ccaea943c5c2"
      },
      "outputs": [
        {
          "data": {
            "text/html": [
              "<div>\n",
              "<style scoped>\n",
              "    .dataframe tbody tr th:only-of-type {\n",
              "        vertical-align: middle;\n",
              "    }\n",
              "\n",
              "    .dataframe tbody tr th {\n",
              "        vertical-align: top;\n",
              "    }\n",
              "\n",
              "    .dataframe thead th {\n",
              "        text-align: right;\n",
              "    }\n",
              "</style>\n",
              "<table border=\"1\" class=\"dataframe\">\n",
              "  <thead>\n",
              "    <tr style=\"text-align: right;\">\n",
              "      <th></th>\n",
              "      <th>Row ID</th>\n",
              "      <th>Order ID</th>\n",
              "      <th>Order Date</th>\n",
              "      <th>Ship Date</th>\n",
              "      <th>Ship Mode</th>\n",
              "      <th>Customer ID</th>\n",
              "      <th>Customer Name</th>\n",
              "      <th>Segment</th>\n",
              "      <th>City</th>\n",
              "      <th>State</th>\n",
              "      <th>Country</th>\n",
              "      <th>Postal Code</th>\n",
              "      <th>Market</th>\n",
              "      <th>Region</th>\n",
              "      <th>Product ID</th>\n",
              "      <th>Category</th>\n",
              "      <th>Sub-Category</th>\n",
              "      <th>Product Name</th>\n",
              "      <th>Sales</th>\n",
              "      <th>Quantity</th>\n",
              "      <th>Discount</th>\n",
              "      <th>Profit</th>\n",
              "      <th>Shipping Cost</th>\n",
              "      <th>Order Priority</th>\n",
              "      <th>Unit_Price</th>\n",
              "      <th>Year</th>\n",
              "      <th>Month</th>\n",
              "      <th>Intervals</th>\n",
              "    </tr>\n",
              "  </thead>\n",
              "  <tbody>\n",
              "    <tr>\n",
              "      <th>0</th>\n",
              "      <td>42433</td>\n",
              "      <td>AG-2011-2040</td>\n",
              "      <td>2011-01-01</td>\n",
              "      <td>2011-06-01</td>\n",
              "      <td>Standard Class</td>\n",
              "      <td>TB-11280</td>\n",
              "      <td>Toby Braunhardt</td>\n",
              "      <td>Consumer</td>\n",
              "      <td>Constantine</td>\n",
              "      <td>Constantine</td>\n",
              "      <td>Algeria</td>\n",
              "      <td>NaN</td>\n",
              "      <td>Africa</td>\n",
              "      <td>Africa</td>\n",
              "      <td>OFF-TEN-10000025</td>\n",
              "      <td>Office Supplies</td>\n",
              "      <td>Storage</td>\n",
              "      <td>Tenex Lockers, Blue</td>\n",
              "      <td>408.300</td>\n",
              "      <td>2</td>\n",
              "      <td>0.0</td>\n",
              "      <td>106.140</td>\n",
              "      <td>35.46</td>\n",
              "      <td>Medium</td>\n",
              "      <td>204.150</td>\n",
              "      <td>2011</td>\n",
              "      <td>1</td>\n",
              "      <td>151</td>\n",
              "    </tr>\n",
              "    <tr>\n",
              "      <th>1</th>\n",
              "      <td>22253</td>\n",
              "      <td>IN-2011-47883</td>\n",
              "      <td>2011-01-01</td>\n",
              "      <td>2011-08-01</td>\n",
              "      <td>Standard Class</td>\n",
              "      <td>JH-15985</td>\n",
              "      <td>Joseph Holt</td>\n",
              "      <td>Consumer</td>\n",
              "      <td>Wagga Wagga</td>\n",
              "      <td>New South Wales</td>\n",
              "      <td>Australia</td>\n",
              "      <td>NaN</td>\n",
              "      <td>APAC</td>\n",
              "      <td>Oceania</td>\n",
              "      <td>OFF-SU-10000618</td>\n",
              "      <td>Office Supplies</td>\n",
              "      <td>Supplies</td>\n",
              "      <td>Acme Trimmer, High Speed</td>\n",
              "      <td>120.366</td>\n",
              "      <td>3</td>\n",
              "      <td>0.1</td>\n",
              "      <td>36.036</td>\n",
              "      <td>9.72</td>\n",
              "      <td>Medium</td>\n",
              "      <td>40.122</td>\n",
              "      <td>2011</td>\n",
              "      <td>1</td>\n",
              "      <td>212</td>\n",
              "    </tr>\n",
              "    <tr>\n",
              "      <th>2</th>\n",
              "      <td>48883</td>\n",
              "      <td>HU-2011-1220</td>\n",
              "      <td>2011-01-01</td>\n",
              "      <td>2011-05-01</td>\n",
              "      <td>Second Class</td>\n",
              "      <td>AT-735</td>\n",
              "      <td>Annie Thurman</td>\n",
              "      <td>Consumer</td>\n",
              "      <td>Budapest</td>\n",
              "      <td>Budapest</td>\n",
              "      <td>Hungary</td>\n",
              "      <td>NaN</td>\n",
              "      <td>EMEA</td>\n",
              "      <td>EMEA</td>\n",
              "      <td>OFF-TEN-10001585</td>\n",
              "      <td>Office Supplies</td>\n",
              "      <td>Storage</td>\n",
              "      <td>Tenex Box, Single Width</td>\n",
              "      <td>66.120</td>\n",
              "      <td>4</td>\n",
              "      <td>0.0</td>\n",
              "      <td>29.640</td>\n",
              "      <td>8.17</td>\n",
              "      <td>High</td>\n",
              "      <td>16.530</td>\n",
              "      <td>2011</td>\n",
              "      <td>1</td>\n",
              "      <td>120</td>\n",
              "    </tr>\n",
              "    <tr>\n",
              "      <th>3</th>\n",
              "      <td>11731</td>\n",
              "      <td>IT-2011-3647632</td>\n",
              "      <td>2011-01-01</td>\n",
              "      <td>2011-05-01</td>\n",
              "      <td>Second Class</td>\n",
              "      <td>EM-14140</td>\n",
              "      <td>Eugene Moren</td>\n",
              "      <td>Home Office</td>\n",
              "      <td>Stockholm</td>\n",
              "      <td>Stockholm</td>\n",
              "      <td>Sweden</td>\n",
              "      <td>NaN</td>\n",
              "      <td>EU</td>\n",
              "      <td>North</td>\n",
              "      <td>OFF-PA-10001492</td>\n",
              "      <td>Office Supplies</td>\n",
              "      <td>Paper</td>\n",
              "      <td>Enermax Note Cards, Premium</td>\n",
              "      <td>44.865</td>\n",
              "      <td>3</td>\n",
              "      <td>0.5</td>\n",
              "      <td>-26.055</td>\n",
              "      <td>4.82</td>\n",
              "      <td>High</td>\n",
              "      <td>14.955</td>\n",
              "      <td>2011</td>\n",
              "      <td>1</td>\n",
              "      <td>120</td>\n",
              "    </tr>\n",
              "    <tr>\n",
              "      <th>4</th>\n",
              "      <td>22255</td>\n",
              "      <td>IN-2011-47883</td>\n",
              "      <td>2011-01-01</td>\n",
              "      <td>2011-08-01</td>\n",
              "      <td>Standard Class</td>\n",
              "      <td>JH-15985</td>\n",
              "      <td>Joseph Holt</td>\n",
              "      <td>Consumer</td>\n",
              "      <td>Wagga Wagga</td>\n",
              "      <td>New South Wales</td>\n",
              "      <td>Australia</td>\n",
              "      <td>NaN</td>\n",
              "      <td>APAC</td>\n",
              "      <td>Oceania</td>\n",
              "      <td>FUR-FU-10003447</td>\n",
              "      <td>Furniture</td>\n",
              "      <td>Furnishings</td>\n",
              "      <td>Eldon Light Bulb, Duo Pack</td>\n",
              "      <td>113.670</td>\n",
              "      <td>5</td>\n",
              "      <td>0.1</td>\n",
              "      <td>37.770</td>\n",
              "      <td>4.70</td>\n",
              "      <td>Medium</td>\n",
              "      <td>22.734</td>\n",
              "      <td>2011</td>\n",
              "      <td>1</td>\n",
              "      <td>212</td>\n",
              "    </tr>\n",
              "  </tbody>\n",
              "</table>\n",
              "</div>"
            ],
            "text/plain": [
              "   Row ID         Order ID Order Date  Ship Date       Ship Mode Customer ID  \\\n",
              "0   42433     AG-2011-2040 2011-01-01 2011-06-01  Standard Class    TB-11280   \n",
              "1   22253    IN-2011-47883 2011-01-01 2011-08-01  Standard Class    JH-15985   \n",
              "2   48883     HU-2011-1220 2011-01-01 2011-05-01    Second Class      AT-735   \n",
              "3   11731  IT-2011-3647632 2011-01-01 2011-05-01    Second Class    EM-14140   \n",
              "4   22255    IN-2011-47883 2011-01-01 2011-08-01  Standard Class    JH-15985   \n",
              "\n",
              "     Customer Name      Segment         City            State    Country  \\\n",
              "0  Toby Braunhardt     Consumer  Constantine      Constantine    Algeria   \n",
              "1      Joseph Holt     Consumer  Wagga Wagga  New South Wales  Australia   \n",
              "2    Annie Thurman     Consumer     Budapest         Budapest    Hungary   \n",
              "3     Eugene Moren  Home Office    Stockholm        Stockholm     Sweden   \n",
              "4      Joseph Holt     Consumer  Wagga Wagga  New South Wales  Australia   \n",
              "\n",
              "   Postal Code  Market   Region        Product ID         Category  \\\n",
              "0          NaN  Africa   Africa  OFF-TEN-10000025  Office Supplies   \n",
              "1          NaN    APAC  Oceania   OFF-SU-10000618  Office Supplies   \n",
              "2          NaN    EMEA     EMEA  OFF-TEN-10001585  Office Supplies   \n",
              "3          NaN      EU    North   OFF-PA-10001492  Office Supplies   \n",
              "4          NaN    APAC  Oceania   FUR-FU-10003447        Furniture   \n",
              "\n",
              "  Sub-Category                 Product Name    Sales  Quantity  Discount  \\\n",
              "0      Storage          Tenex Lockers, Blue  408.300         2       0.0   \n",
              "1     Supplies     Acme Trimmer, High Speed  120.366         3       0.1   \n",
              "2      Storage      Tenex Box, Single Width   66.120         4       0.0   \n",
              "3        Paper  Enermax Note Cards, Premium   44.865         3       0.5   \n",
              "4  Furnishings   Eldon Light Bulb, Duo Pack  113.670         5       0.1   \n",
              "\n",
              "    Profit  Shipping Cost Order Priority  Unit_Price  Year  Month  Intervals  \n",
              "0  106.140          35.46         Medium     204.150  2011      1        151  \n",
              "1   36.036           9.72         Medium      40.122  2011      1        212  \n",
              "2   29.640           8.17           High      16.530  2011      1        120  \n",
              "3  -26.055           4.82           High      14.955  2011      1        120  \n",
              "4   37.770           4.70         Medium      22.734  2011      1        212  "
            ]
          },
          "execution_count": 45,
          "metadata": {},
          "output_type": "execute_result"
        }
      ],
      "source": [
        "data.head()"
      ]
    },
    {
      "cell_type": "markdown",
      "metadata": {
        "id": "yPirNQstM1FG"
      },
      "source": [
        "## What is the sales and profit per market?"
      ]
    },
    {
      "cell_type": "code",
      "execution_count": null,
      "metadata": {
        "id": "ocFmLLpyM1FH",
        "outputId": "7140a3fb-f162-4d63-d8f7-d1e2f0cafc5f"
      },
      "outputs": [
        {
          "data": {
            "text/html": [
              "<div>\n",
              "<style scoped>\n",
              "    .dataframe tbody tr th:only-of-type {\n",
              "        vertical-align: middle;\n",
              "    }\n",
              "\n",
              "    .dataframe tbody tr th {\n",
              "        vertical-align: top;\n",
              "    }\n",
              "\n",
              "    .dataframe thead th {\n",
              "        text-align: right;\n",
              "    }\n",
              "</style>\n",
              "<table border=\"1\" class=\"dataframe\">\n",
              "  <thead>\n",
              "    <tr style=\"text-align: right;\">\n",
              "      <th></th>\n",
              "      <th>Market</th>\n",
              "      <th>Total_sales</th>\n",
              "      <th>Total_profit</th>\n",
              "    </tr>\n",
              "  </thead>\n",
              "  <tbody>\n",
              "    <tr>\n",
              "      <th>0</th>\n",
              "      <td>APAC</td>\n",
              "      <td>3585744.129</td>\n",
              "      <td>436000.049</td>\n",
              "    </tr>\n",
              "    <tr>\n",
              "      <th>4</th>\n",
              "      <td>EU</td>\n",
              "      <td>2938089.062</td>\n",
              "      <td>372829.742</td>\n",
              "    </tr>\n",
              "    <tr>\n",
              "      <th>6</th>\n",
              "      <td>US</td>\n",
              "      <td>2297200.860</td>\n",
              "      <td>286397.022</td>\n",
              "    </tr>\n",
              "    <tr>\n",
              "      <th>5</th>\n",
              "      <td>LATAM</td>\n",
              "      <td>2164605.167</td>\n",
              "      <td>221643.487</td>\n",
              "    </tr>\n",
              "    <tr>\n",
              "      <th>3</th>\n",
              "      <td>EMEA</td>\n",
              "      <td>806161.311</td>\n",
              "      <td>43897.971</td>\n",
              "    </tr>\n",
              "    <tr>\n",
              "      <th>1</th>\n",
              "      <td>Africa</td>\n",
              "      <td>783773.211</td>\n",
              "      <td>88871.631</td>\n",
              "    </tr>\n",
              "    <tr>\n",
              "      <th>2</th>\n",
              "      <td>Canada</td>\n",
              "      <td>66928.170</td>\n",
              "      <td>17817.390</td>\n",
              "    </tr>\n",
              "  </tbody>\n",
              "</table>\n",
              "</div>"
            ],
            "text/plain": [
              "   Market  Total_sales  Total_profit\n",
              "0    APAC  3585744.129    436000.049\n",
              "4      EU  2938089.062    372829.742\n",
              "6      US  2297200.860    286397.022\n",
              "5   LATAM  2164605.167    221643.487\n",
              "3    EMEA   806161.311     43897.971\n",
              "1  Africa   783773.211     88871.631\n",
              "2  Canada    66928.170     17817.390"
            ]
          },
          "execution_count": 33,
          "metadata": {},
          "output_type": "execute_result"
        }
      ],
      "source": [
        "# What is the sales and profit per market?\n",
        "# Accross the four year period\n",
        "total_sales_profit = data.groupby(['Market']).agg(Total_sales = ('Sales','sum'),Total_profit = ('Profit','sum')).reset_index()\n",
        "total_sales_profit[['Total_sales','Total_profit']] = round(total_sales_profit[['Total_sales','Total_profit']],3)\n",
        "total_sales_profit = total_sales_profit.sort_values(by ='Total_sales',ascending = False)\n",
        "total_sales_profit"
      ]
    },
    {
      "cell_type": "code",
      "execution_count": null,
      "metadata": {
        "id": "aHQt-OtAM1FI",
        "outputId": "ccc07679-a3df-4b26-ca52-42707cfd811e"
      },
      "outputs": [
        {
          "data": {
            "image/png": "[encoded data removed]",
            "text/plain": [
              "<Figure size 720x576 with 1 Axes>"
            ]
          },
          "metadata": {
            "needs_background": "light"
          },
          "output_type": "display_data"
        }
      ],
      "source": [
        "# Plotting the market against sales avearge and profit average\n",
        "total_sales_profit.plot(x=\"Market\", y=[\"Total_sales\", \"Total_profit\"], kind=\"bar\", figsize=(10, 8))\n",
        "plt.ylabel('Total Amount')\n",
        "plt.title('A plot showing Total sales and profit per market for the four year period')\n",
        "plt.ticklabel_format(style='plain',axis='y')\n",
        "plt.show()"
      ]
    },
    {
      "cell_type": "markdown",
      "metadata": {
        "id": "Z4l54f25M1FS"
      },
      "source": [
        "## What is the most and least profitable market?"
      ]
    },
    {
      "cell_type": "code",
      "execution_count": null,
      "metadata": {
        "id": "-Z72EZg5M1FT",
        "outputId": "781f813d-1a81-4135-d94d-b463f52f2798"
      },
      "outputs": [
        {
          "data": {
            "text/html": [
              "<div>\n",
              "<style scoped>\n",
              "    .dataframe tbody tr th:only-of-type {\n",
              "        vertical-align: middle;\n",
              "    }\n",
              "\n",
              "    .dataframe tbody tr th {\n",
              "        vertical-align: top;\n",
              "    }\n",
              "\n",
              "    .dataframe thead th {\n",
              "        text-align: right;\n",
              "    }\n",
              "</style>\n",
              "<table border=\"1\" class=\"dataframe\">\n",
              "  <thead>\n",
              "    <tr style=\"text-align: right;\">\n",
              "      <th></th>\n",
              "      <th>Market</th>\n",
              "      <th>Total_sales</th>\n",
              "      <th>Total_profit</th>\n",
              "    </tr>\n",
              "  </thead>\n",
              "  <tbody>\n",
              "    <tr>\n",
              "      <th>0</th>\n",
              "      <td>APAC</td>\n",
              "      <td>3585744.129</td>\n",
              "      <td>436000.049</td>\n",
              "    </tr>\n",
              "  </tbody>\n",
              "</table>\n",
              "</div>"
            ],
            "text/plain": [
              "  Market  Total_sales  Total_profit\n",
              "0   APAC  3585744.129    436000.049"
            ]
          },
          "execution_count": 35,
          "metadata": {},
          "output_type": "execute_result"
        }
      ],
      "source": [
        "# Most profitable Market\n",
        "most_profitable_market = total_sales_profit[total_sales_profit['Total_profit'] == total_sales_profit['Total_profit'].max() ]\n",
        "most_profitable_market"
      ]
    },
    {
      "cell_type": "code",
      "execution_count": null,
      "metadata": {
        "id": "4hKYxe_CM1FU",
        "outputId": "c1efe233-9c0b-4e70-c155-69f51ab3a11f"
      },
      "outputs": [
        {
          "data": {
            "text/html": [
              "<div>\n",
              "<style scoped>\n",
              "    .dataframe tbody tr th:only-of-type {\n",
              "        vertical-align: middle;\n",
              "    }\n",
              "\n",
              "    .dataframe tbody tr th {\n",
              "        vertical-align: top;\n",
              "    }\n",
              "\n",
              "    .dataframe thead th {\n",
              "        text-align: right;\n",
              "    }\n",
              "</style>\n",
              "<table border=\"1\" class=\"dataframe\">\n",
              "  <thead>\n",
              "    <tr style=\"text-align: right;\">\n",
              "      <th></th>\n",
              "      <th>Market</th>\n",
              "      <th>Total_sales</th>\n",
              "      <th>Total_profit</th>\n",
              "    </tr>\n",
              "  </thead>\n",
              "  <tbody>\n",
              "    <tr>\n",
              "      <th>2</th>\n",
              "      <td>Canada</td>\n",
              "      <td>66928.17</td>\n",
              "      <td>17817.39</td>\n",
              "    </tr>\n",
              "  </tbody>\n",
              "</table>\n",
              "</div>"
            ],
            "text/plain": [
              "   Market  Total_sales  Total_profit\n",
              "2  Canada     66928.17      17817.39"
            ]
          },
          "execution_count": 36,
          "metadata": {},
          "output_type": "execute_result"
        }
      ],
      "source": [
        "# Least profitable Market\n",
        "least_profitable_market = total_sales_profit[total_sales_profit['Total_profit'] == total_sales_profit['Total_profit'].min() ]\n",
        "least_profitable_market"
      ]
    },
    {
      "cell_type": "markdown",
      "metadata": {
        "id": "o7UXUBe3M1Fe"
      },
      "source": [
        "## How are you going to increase the sales for the products that least bought?"
      ]
    },
    {
      "cell_type": "code",
      "execution_count": null,
      "metadata": {
        "id": "1vpw7b6UM1Fg",
        "outputId": "c8382b71-11b6-40eb-f1df-042eb228844d"
      },
      "outputs": [
        {
          "data": {
            "text/html": [
              "<div>\n",
              "<style scoped>\n",
              "    .dataframe tbody tr th:only-of-type {\n",
              "        vertical-align: middle;\n",
              "    }\n",
              "\n",
              "    .dataframe tbody tr th {\n",
              "        vertical-align: top;\n",
              "    }\n",
              "\n",
              "    .dataframe thead th {\n",
              "        text-align: right;\n",
              "    }\n",
              "</style>\n",
              "<table border=\"1\" class=\"dataframe\">\n",
              "  <thead>\n",
              "    <tr style=\"text-align: right;\">\n",
              "      <th></th>\n",
              "      <th>Product Name</th>\n",
              "      <th>Profit</th>\n",
              "      <th>Sales</th>\n",
              "    </tr>\n",
              "  </thead>\n",
              "  <tbody>\n",
              "    <tr>\n",
              "      <th>0</th>\n",
              "      <td>Eureka Disposable Bags for Sanitaire Vibra Groomer I Upright Vac</td>\n",
              "      <td>-4.4660</td>\n",
              "      <td>1.624</td>\n",
              "    </tr>\n",
              "    <tr>\n",
              "      <th>1</th>\n",
              "      <td>Avery 5</td>\n",
              "      <td>2.8224</td>\n",
              "      <td>5.760</td>\n",
              "    </tr>\n",
              "    <tr>\n",
              "      <th>2</th>\n",
              "      <td>Xerox 20</td>\n",
              "      <td>3.1104</td>\n",
              "      <td>6.480</td>\n",
              "    </tr>\n",
              "    <tr>\n",
              "      <th>3</th>\n",
              "      <td>Grip Seal Envelopes</td>\n",
              "      <td>2.3868</td>\n",
              "      <td>7.072</td>\n",
              "    </tr>\n",
              "    <tr>\n",
              "      <th>4</th>\n",
              "      <td>Avery Hi-Liter Pen Style Six-Color Fluorescent Set</td>\n",
              "      <td>3.1570</td>\n",
              "      <td>7.700</td>\n",
              "    </tr>\n",
              "    <tr>\n",
              "      <th>5</th>\n",
              "      <td>Avery Hi-Liter Comfort Grip Fluorescent Highlighter, Yellow Ink</td>\n",
              "      <td>3.0420</td>\n",
              "      <td>7.800</td>\n",
              "    </tr>\n",
              "    <tr>\n",
              "      <th>6</th>\n",
              "      <td>Xerox 1989</td>\n",
              "      <td>2.6892</td>\n",
              "      <td>7.968</td>\n",
              "    </tr>\n",
              "    <tr>\n",
              "      <th>7</th>\n",
              "      <td>4009 Highlighters</td>\n",
              "      <td>2.7336</td>\n",
              "      <td>8.040</td>\n",
              "    </tr>\n",
              "    <tr>\n",
              "      <th>8</th>\n",
              "      <td>Stockwell Gold Paper Clips</td>\n",
              "      <td>3.4040</td>\n",
              "      <td>8.096</td>\n",
              "    </tr>\n",
              "    <tr>\n",
              "      <th>9</th>\n",
              "      <td>Newell 308</td>\n",
              "      <td>2.1000</td>\n",
              "      <td>8.400</td>\n",
              "    </tr>\n",
              "  </tbody>\n",
              "</table>\n",
              "</div>"
            ],
            "text/plain": [
              "                                                       Product Name  Profit  \\\n",
              "0  Eureka Disposable Bags for Sanitaire Vibra Groomer I Upright Vac -4.4660   \n",
              "1                                                           Avery 5  2.8224   \n",
              "2                                                          Xerox 20  3.1104   \n",
              "3                                               Grip Seal Envelopes  2.3868   \n",
              "4                Avery Hi-Liter Pen Style Six-Color Fluorescent Set  3.1570   \n",
              "5   Avery Hi-Liter Comfort Grip Fluorescent Highlighter, Yellow Ink  3.0420   \n",
              "6                                                        Xerox 1989  2.6892   \n",
              "7                                                 4009 Highlighters  2.7336   \n",
              "8                                        Stockwell Gold Paper Clips  3.4040   \n",
              "9                                                        Newell 308  2.1000   \n",
              "\n",
              "   Sales  \n",
              "0  1.624  \n",
              "1  5.760  \n",
              "2  6.480  \n",
              "3  7.072  \n",
              "4  7.700  \n",
              "5  7.800  \n",
              "6  7.968  \n",
              "7  8.040  \n",
              "8  8.096  \n",
              "9  8.400  "
            ]
          },
          "execution_count": 42,
          "metadata": {},
          "output_type": "execute_result"
        }
      ],
      "source": [
        "sales_least_bought = data.groupby('Product Name')['Profit', 'Sales'].sum().sort_values(by='Sales',ascending=True).reset_index()\n",
        "sales_least_bought.head(10)"
      ]
    },
    {
      "cell_type": "markdown",
      "metadata": {
        "id": "xVnyIeJDM1Fi"
      },
      "source": [
        "## Which month does the company records more sales?"
      ]
    },
    {
      "cell_type": "code",
      "execution_count": null,
      "metadata": {
        "id": "rgbUXEcPM1Fm",
        "outputId": "c36d77ad-1aad-4a91-8ead-62815c235686"
      },
      "outputs": [
        {
          "data": {
            "text/html": [
              "<div>\n",
              "<style scoped>\n",
              "    .dataframe tbody tr th:only-of-type {\n",
              "        vertical-align: middle;\n",
              "    }\n",
              "\n",
              "    .dataframe tbody tr th {\n",
              "        vertical-align: top;\n",
              "    }\n",
              "\n",
              "    .dataframe thead th {\n",
              "        text-align: right;\n",
              "    }\n",
              "</style>\n",
              "<table border=\"1\" class=\"dataframe\">\n",
              "  <thead>\n",
              "    <tr style=\"text-align: right;\">\n",
              "      <th></th>\n",
              "      <th>Month</th>\n",
              "      <th>Total_sales</th>\n",
              "    </tr>\n",
              "  </thead>\n",
              "  <tbody>\n",
              "    <tr>\n",
              "      <th>0</th>\n",
              "      <td>Jan</td>\n",
              "      <td>775766.912</td>\n",
              "    </tr>\n",
              "    <tr>\n",
              "      <th>1</th>\n",
              "      <td>Feb</td>\n",
              "      <td>722853.169</td>\n",
              "    </tr>\n",
              "    <tr>\n",
              "      <th>2</th>\n",
              "      <td>Mar</td>\n",
              "      <td>951333.085</td>\n",
              "    </tr>\n",
              "    <tr>\n",
              "      <th>3</th>\n",
              "      <td>Apr</td>\n",
              "      <td>851617.321</td>\n",
              "    </tr>\n",
              "    <tr>\n",
              "      <th>4</th>\n",
              "      <td>May</td>\n",
              "      <td>976415.681</td>\n",
              "    </tr>\n",
              "    <tr>\n",
              "      <th>5</th>\n",
              "      <td>Jun</td>\n",
              "      <td>1152367.788</td>\n",
              "    </tr>\n",
              "    <tr>\n",
              "      <th>6</th>\n",
              "      <td>Jul</td>\n",
              "      <td>838743.556</td>\n",
              "    </tr>\n",
              "    <tr>\n",
              "      <th>7</th>\n",
              "      <td>Aug</td>\n",
              "      <td>1247500.805</td>\n",
              "    </tr>\n",
              "    <tr>\n",
              "      <th>8</th>\n",
              "      <td>Sept</td>\n",
              "      <td>1244139.726</td>\n",
              "    </tr>\n",
              "    <tr>\n",
              "      <th>9</th>\n",
              "      <td>Oct</td>\n",
              "      <td>1120777.468</td>\n",
              "    </tr>\n",
              "    <tr>\n",
              "      <th>10</th>\n",
              "      <td>Nov</td>\n",
              "      <td>1377651.291</td>\n",
              "    </tr>\n",
              "    <tr>\n",
              "      <th>11</th>\n",
              "      <td>Dec</td>\n",
              "      <td>1383335.107</td>\n",
              "    </tr>\n",
              "  </tbody>\n",
              "</table>\n",
              "</div>"
            ],
            "text/plain": [
              "   Month  Total_sales\n",
              "0    Jan   775766.912\n",
              "1    Feb   722853.169\n",
              "2    Mar   951333.085\n",
              "3    Apr   851617.321\n",
              "4    May   976415.681\n",
              "5    Jun  1152367.788\n",
              "6    Jul   838743.556\n",
              "7    Aug  1247500.805\n",
              "8   Sept  1244139.726\n",
              "9    Oct  1120777.468\n",
              "10   Nov  1377651.291\n",
              "11   Dec  1383335.107"
            ]
          },
          "execution_count": 46,
          "metadata": {},
          "output_type": "execute_result"
        }
      ],
      "source": [
        "month_sales = data.groupby('Month').agg(Total_sales = ('Sales','sum')).reset_index()\n",
        "month_sales['Total_sales'] = round(month_sales['Total_sales'],3)\n",
        "month_sales['Month'] = month_sales['Month'].astype(str)\n",
        "month_sales['Month'] = month_sales['Month'].replace({ '1': \"Jan\", '2': \"Feb\", '3': \"Mar\",'4': \"Apr\",'5': \"May\",'6': \"Jun\",\\\n",
        "                                       '7': \"Jul\",'8': \"Aug\",'9': \"Sept\",'10': \"Oct\",'11': \"Nov\",'12': \"Dec\"})\n",
        "month_sales"
      ]
    },
    {
      "cell_type": "code",
      "execution_count": null,
      "metadata": {
        "id": "qmgmg8JIM1Fn",
        "outputId": "063e25d9-99a4-4199-b32f-a9dd72528783"
      },
      "outputs": [
        {
          "data": {
            "image/png": "[encoded data removed]",
            "text/plain": [
              "<Figure size 720x576 with 1 Axes>"
            ]
          },
          "metadata": {
            "needs_background": "light"
          },
          "output_type": "display_data"
        }
      ],
      "source": [
        "# Ploting a line graph for months and total sales\n",
        "fig, ax = plt.subplots(figsize=(10,8))\n",
        "sns.lineplot(x = 'Month', y = 'Total_sales', data=month_sales, ax=ax, color='green')\n",
        "ax.set(xlabel = 'Months',ylabel = 'Total Sales' ,title = 'Trend of Sales acrross the four year period from January to December')\n",
        "plt.ticklabel_format(style='plain',axis='y')\n",
        "sns.despine()"
      ]
    },
    {
      "cell_type": "code",
      "execution_count": null,
      "metadata": {
        "id": "yvWo0lxtM1Fo",
        "outputId": "da6d7b86-004f-403d-c440-cef3e1d62b0e"
      },
      "outputs": [
        {
          "data": {
            "text/html": [
              "<div>\n",
              "<style scoped>\n",
              "    .dataframe tbody tr th:only-of-type {\n",
              "        vertical-align: middle;\n",
              "    }\n",
              "\n",
              "    .dataframe tbody tr th {\n",
              "        vertical-align: top;\n",
              "    }\n",
              "\n",
              "    .dataframe thead th {\n",
              "        text-align: right;\n",
              "    }\n",
              "</style>\n",
              "<table border=\"1\" class=\"dataframe\">\n",
              "  <thead>\n",
              "    <tr style=\"text-align: right;\">\n",
              "      <th></th>\n",
              "      <th>Month</th>\n",
              "      <th>Total_sales</th>\n",
              "    </tr>\n",
              "  </thead>\n",
              "  <tbody>\n",
              "    <tr>\n",
              "      <th>11</th>\n",
              "      <td>Dec</td>\n",
              "      <td>1383335.107</td>\n",
              "    </tr>\n",
              "  </tbody>\n",
              "</table>\n",
              "</div>"
            ],
            "text/plain": [
              "   Month  Total_sales\n",
              "11   Dec  1383335.107"
            ]
          },
          "execution_count": 48,
          "metadata": {},
          "output_type": "execute_result"
        }
      ],
      "source": [
        "more_sales = month_sales[month_sales['Total_sales'] ==month_sales['Total_sales'].max() ]\n",
        "more_sales"
      ]
    },
    {
      "cell_type": "markdown",
      "metadata": {
        "id": "dhe35ZsVM1Fs"
      },
      "source": [
        "## What is the correlation between discount and sale?"
      ]
    },
    {
      "cell_type": "code",
      "execution_count": null,
      "metadata": {
        "id": "bbOrUbIBM1Ft",
        "outputId": "006304b8-790c-41d5-8608-6063556611c9"
      },
      "outputs": [
        {
          "data": {
            "image/png": "[encoded data removed]",
            "text/plain": [
              "<Figure size 432x288 with 2 Axes>"
            ]
          },
          "metadata": {
            "needs_background": "light"
          },
          "output_type": "display_data"
        }
      ],
      "source": [
        "sales_discount = data[['Sales','Discount']]\n",
        "cormat = sales_discount.corr()\n",
        "sns.heatmap(cormat,annot=True)\n",
        "plt.show()"
      ]
    },
    {
      "cell_type": "code",
      "execution_count": null,
      "metadata": {
        "id": "KJIBk4QfM1Fu",
        "outputId": "a1b0645e-8fd4-4e13-856d-81311f7c9ab7"
      },
      "outputs": [
        {
          "data": {
            "text/html": [
              "<div>\n",
              "<style scoped>\n",
              "    .dataframe tbody tr th:only-of-type {\n",
              "        vertical-align: middle;\n",
              "    }\n",
              "\n",
              "    .dataframe tbody tr th {\n",
              "        vertical-align: top;\n",
              "    }\n",
              "\n",
              "    .dataframe thead th {\n",
              "        text-align: right;\n",
              "    }\n",
              "</style>\n",
              "<table border=\"1\" class=\"dataframe\">\n",
              "  <thead>\n",
              "    <tr style=\"text-align: right;\">\n",
              "      <th></th>\n",
              "      <th>Sales</th>\n",
              "      <th>Discount</th>\n",
              "    </tr>\n",
              "  </thead>\n",
              "  <tbody>\n",
              "    <tr>\n",
              "      <th>Sales</th>\n",
              "      <td>1.000000</td>\n",
              "      <td>-0.086722</td>\n",
              "    </tr>\n",
              "    <tr>\n",
              "      <th>Discount</th>\n",
              "      <td>-0.086722</td>\n",
              "      <td>1.000000</td>\n",
              "    </tr>\n",
              "  </tbody>\n",
              "</table>\n",
              "</div>"
            ],
            "text/plain": [
              "             Sales  Discount\n",
              "Sales     1.000000 -0.086722\n",
              "Discount -0.086722  1.000000"
            ]
          },
          "execution_count": 51,
          "metadata": {},
          "output_type": "execute_result"
        }
      ],
      "source": [
        "cormat"
      ]
    },
    {
      "cell_type": "code",
      "execution_count": null,
      "metadata": {
        "id": "T8828qBjM1Fy"
      },
      "outputs": [],
      "source": [
        "# Discount and sales have a negative linear correlation with very weak strenth"
      ]
    },
    {
      "cell_type": "markdown",
      "metadata": {
        "id": "2zGbRGymM1F0"
      },
      "source": [
        "## Does the shipping cost affect the sales?"
      ]
    },
    {
      "cell_type": "code",
      "execution_count": null,
      "metadata": {
        "id": "vJ0WpY52M1F1",
        "outputId": "7ec8cd9f-636a-4d77-bcb2-6c33b1e79095"
      },
      "outputs": [
        {
          "data": {
            "image/png": "[encoded data removed]",
            "text/plain": [
              "<Figure size 432x288 with 2 Axes>"
            ]
          },
          "metadata": {
            "needs_background": "light"
          },
          "output_type": "display_data"
        }
      ],
      "source": [
        "sales_shiping_cost = data[['Sales','Shipping Cost']]\n",
        "cormat1 = sales_shiping_cost.corr()\n",
        "sns.heatmap(cormat1,annot=True)\n",
        "plt.show()"
      ]
    },
    {
      "cell_type": "code",
      "execution_count": null,
      "metadata": {
        "id": "8NSGRv6BM1F4",
        "outputId": "9b20c9db-28c3-4e28-e2a9-c9c0735a6229"
      },
      "outputs": [
        {
          "data": {
            "text/plain": [
              "<seaborn.axisgrid.FacetGrid at 0x1b06c819f70>"
            ]
          },
          "execution_count": 54,
          "metadata": {},
          "output_type": "execute_result"
        },
        {
          "data": {
            "image/png": "[encoded data removed]",
            "text/plain": [
              "<Figure size 360x360 with 1 Axes>"
            ]
          },
          "metadata": {
            "needs_background": "light"
          },
          "output_type": "display_data"
        }
      ],
      "source": [
        "# The daily earnings vs price:\n",
        "sns.lmplot(\n",
        "    x='Shipping Cost', \n",
        "    y='Sales', \n",
        "    data=sales_shiping_cost\n",
        ")"
      ]
    },
    {
      "cell_type": "markdown",
      "metadata": {
        "id": "j3C38-KdM1F6"
      },
      "source": [
        "## What is the dominant product category in each market?"
      ]
    },
    {
      "cell_type": "code",
      "execution_count": null,
      "metadata": {
        "id": "ZCESDdxQM1F7",
        "outputId": "5b7ee97f-a5d5-4b7c-93a3-5a3aa36ddf06"
      },
      "outputs": [
        {
          "data": {
            "text/html": [
              "<div>\n",
              "<style scoped>\n",
              "    .dataframe tbody tr th:only-of-type {\n",
              "        vertical-align: middle;\n",
              "    }\n",
              "\n",
              "    .dataframe tbody tr th {\n",
              "        vertical-align: top;\n",
              "    }\n",
              "\n",
              "    .dataframe thead th {\n",
              "        text-align: right;\n",
              "    }\n",
              "</style>\n",
              "<table border=\"1\" class=\"dataframe\">\n",
              "  <thead>\n",
              "    <tr style=\"text-align: right;\">\n",
              "      <th></th>\n",
              "      <th></th>\n",
              "      <th>Total_Sales</th>\n",
              "    </tr>\n",
              "    <tr>\n",
              "      <th>Market</th>\n",
              "      <th>Category</th>\n",
              "      <th></th>\n",
              "    </tr>\n",
              "  </thead>\n",
              "  <tbody>\n",
              "    <tr>\n",
              "      <th rowspan=\"3\" valign=\"top\">APAC</th>\n",
              "      <th>Furniture</th>\n",
              "      <td>1.343934e+06</td>\n",
              "    </tr>\n",
              "    <tr>\n",
              "      <th>Office Supplies</th>\n",
              "      <td>8.843198e+05</td>\n",
              "    </tr>\n",
              "    <tr>\n",
              "      <th>Technology</th>\n",
              "      <td>1.357490e+06</td>\n",
              "    </tr>\n",
              "    <tr>\n",
              "      <th rowspan=\"3\" valign=\"top\">Africa</th>\n",
              "      <th>Furniture</th>\n",
              "      <td>1.946506e+05</td>\n",
              "    </tr>\n",
              "    <tr>\n",
              "      <th>Office Supplies</th>\n",
              "      <td>2.667555e+05</td>\n",
              "    </tr>\n",
              "    <tr>\n",
              "      <th>Technology</th>\n",
              "      <td>3.223670e+05</td>\n",
              "    </tr>\n",
              "    <tr>\n",
              "      <th rowspan=\"3\" valign=\"top\">Canada</th>\n",
              "      <th>Furniture</th>\n",
              "      <td>1.059528e+04</td>\n",
              "    </tr>\n",
              "    <tr>\n",
              "      <th>Office Supplies</th>\n",
              "      <td>3.003408e+04</td>\n",
              "    </tr>\n",
              "    <tr>\n",
              "      <th>Technology</th>\n",
              "      <td>2.629881e+04</td>\n",
              "    </tr>\n",
              "    <tr>\n",
              "      <th rowspan=\"3\" valign=\"top\">EMEA</th>\n",
              "      <th>Furniture</th>\n",
              "      <td>2.286207e+05</td>\n",
              "    </tr>\n",
              "    <tr>\n",
              "      <th>Office Supplies</th>\n",
              "      <td>2.766860e+05</td>\n",
              "    </tr>\n",
              "    <tr>\n",
              "      <th>Technology</th>\n",
              "      <td>3.008546e+05</td>\n",
              "    </tr>\n",
              "    <tr>\n",
              "      <th rowspan=\"3\" valign=\"top\">EU</th>\n",
              "      <th>Furniture</th>\n",
              "      <td>7.791030e+05</td>\n",
              "    </tr>\n",
              "    <tr>\n",
              "      <th>Office Supplies</th>\n",
              "      <td>1.046307e+06</td>\n",
              "    </tr>\n",
              "    <tr>\n",
              "      <th>Technology</th>\n",
              "      <td>1.112679e+06</td>\n",
              "    </tr>\n",
              "    <tr>\n",
              "      <th rowspan=\"3\" valign=\"top\">LATAM</th>\n",
              "      <th>Furniture</th>\n",
              "      <td>8.119706e+05</td>\n",
              "    </tr>\n",
              "    <tr>\n",
              "      <th>Office Supplies</th>\n",
              "      <td>5.639207e+05</td>\n",
              "    </tr>\n",
              "    <tr>\n",
              "      <th>Technology</th>\n",
              "      <td>7.887138e+05</td>\n",
              "    </tr>\n",
              "    <tr>\n",
              "      <th rowspan=\"3\" valign=\"top\">US</th>\n",
              "      <th>Furniture</th>\n",
              "      <td>7.419998e+05</td>\n",
              "    </tr>\n",
              "    <tr>\n",
              "      <th>Office Supplies</th>\n",
              "      <td>7.190470e+05</td>\n",
              "    </tr>\n",
              "    <tr>\n",
              "      <th>Technology</th>\n",
              "      <td>8.361540e+05</td>\n",
              "    </tr>\n",
              "  </tbody>\n",
              "</table>\n",
              "</div>"
            ],
            "text/plain": [
              "                         Total_Sales\n",
              "Market Category                     \n",
              "APAC   Furniture        1.343934e+06\n",
              "       Office Supplies  8.843198e+05\n",
              "       Technology       1.357490e+06\n",
              "Africa Furniture        1.946506e+05\n",
              "       Office Supplies  2.667555e+05\n",
              "       Technology       3.223670e+05\n",
              "Canada Furniture        1.059528e+04\n",
              "       Office Supplies  3.003408e+04\n",
              "       Technology       2.629881e+04\n",
              "EMEA   Furniture        2.286207e+05\n",
              "       Office Supplies  2.766860e+05\n",
              "       Technology       3.008546e+05\n",
              "EU     Furniture        7.791030e+05\n",
              "       Office Supplies  1.046307e+06\n",
              "       Technology       1.112679e+06\n",
              "LATAM  Furniture        8.119706e+05\n",
              "       Office Supplies  5.639207e+05\n",
              "       Technology       7.887138e+05\n",
              "US     Furniture        7.419998e+05\n",
              "       Office Supplies  7.190470e+05\n",
              "       Technology       8.361540e+05"
            ]
          },
          "execution_count": 55,
          "metadata": {},
          "output_type": "execute_result"
        }
      ],
      "source": [
        "data_domi_prod = data.groupby(['Market','Category']).agg(Total_Sales = ('Sales','sum'))\n",
        "data_domi_prod"
      ]
    },
    {
      "cell_type": "code",
      "execution_count": null,
      "metadata": {
        "id": "YprPrrELM1GA",
        "outputId": "b5c28bc4-39c2-44c4-8b6c-3b10c4833184"
      },
      "outputs": [
        {
          "data": {
            "image/png": "[encoded data removed]",
            "text/plain": [
              "<Figure size 1080x576 with 1 Axes>"
            ]
          },
          "metadata": {
            "needs_background": "light"
          },
          "output_type": "display_data"
        }
      ],
      "source": [
        "fig, ax = plt.subplots(figsize=(15,8))\n",
        "data_domi_prod.unstack().plot.bar(ax=ax)\n",
        "plt.ticklabel_format(style='plain',axis='y')"
      ]
    },
    {
      "cell_type": "code",
      "execution_count": null,
      "metadata": {
        "id": "NVCWBUEwM1GC"
      },
      "outputs": [],
      "source": [
        "# For APAC, Africa, EU, US,EMEA Techology is the dominant product category \n",
        "# LATAM has Furniture to be its dorminant product category\n",
        "# Canada has Office supplies to be its dorminant product category"
      ]
    },
    {
      "cell_type": "markdown",
      "metadata": {
        "id": "FN47nE5qM1GD"
      },
      "source": [
        "## City with most orders for a given product category?"
      ]
    },
    {
      "cell_type": "code",
      "execution_count": null,
      "metadata": {
        "id": "3zXrVO3UM1GD",
        "outputId": "e4c1a925-92b7-4807-eb01-a63916cefb3e"
      },
      "outputs": [
        {
          "data": {
            "text/html": [
              "<div>\n",
              "<style scoped>\n",
              "    .dataframe tbody tr th:only-of-type {\n",
              "        vertical-align: middle;\n",
              "    }\n",
              "\n",
              "    .dataframe tbody tr th {\n",
              "        vertical-align: top;\n",
              "    }\n",
              "\n",
              "    .dataframe thead th {\n",
              "        text-align: right;\n",
              "    }\n",
              "</style>\n",
              "<table border=\"1\" class=\"dataframe\">\n",
              "  <thead>\n",
              "    <tr style=\"text-align: right;\">\n",
              "      <th></th>\n",
              "      <th>City</th>\n",
              "      <th>Category</th>\n",
              "      <th>Total_Orders</th>\n",
              "    </tr>\n",
              "  </thead>\n",
              "  <tbody>\n",
              "    <tr>\n",
              "      <th>0</th>\n",
              "      <td>Aachen</td>\n",
              "      <td>Furniture</td>\n",
              "      <td>2</td>\n",
              "    </tr>\n",
              "    <tr>\n",
              "      <th>1</th>\n",
              "      <td>Aachen</td>\n",
              "      <td>Office Supplies</td>\n",
              "      <td>14</td>\n",
              "    </tr>\n",
              "    <tr>\n",
              "      <th>2</th>\n",
              "      <td>Aachen</td>\n",
              "      <td>Technology</td>\n",
              "      <td>1</td>\n",
              "    </tr>\n",
              "    <tr>\n",
              "      <th>3</th>\n",
              "      <td>Aalen</td>\n",
              "      <td>Furniture</td>\n",
              "      <td>1</td>\n",
              "    </tr>\n",
              "    <tr>\n",
              "      <th>4</th>\n",
              "      <td>Aalen</td>\n",
              "      <td>Office Supplies</td>\n",
              "      <td>0</td>\n",
              "    </tr>\n",
              "    <tr>\n",
              "      <th>...</th>\n",
              "      <td>...</td>\n",
              "      <td>...</td>\n",
              "      <td>...</td>\n",
              "    </tr>\n",
              "    <tr>\n",
              "      <th>10903</th>\n",
              "      <td>eMbalenhle</td>\n",
              "      <td>Office Supplies</td>\n",
              "      <td>2</td>\n",
              "    </tr>\n",
              "    <tr>\n",
              "      <th>10904</th>\n",
              "      <td>eMbalenhle</td>\n",
              "      <td>Technology</td>\n",
              "      <td>0</td>\n",
              "    </tr>\n",
              "    <tr>\n",
              "      <th>10905</th>\n",
              "      <td>Águas Lindas de Goiás</td>\n",
              "      <td>Furniture</td>\n",
              "      <td>0</td>\n",
              "    </tr>\n",
              "    <tr>\n",
              "      <th>10906</th>\n",
              "      <td>Águas Lindas de Goiás</td>\n",
              "      <td>Office Supplies</td>\n",
              "      <td>4</td>\n",
              "    </tr>\n",
              "    <tr>\n",
              "      <th>10907</th>\n",
              "      <td>Águas Lindas de Goiás</td>\n",
              "      <td>Technology</td>\n",
              "      <td>0</td>\n",
              "    </tr>\n",
              "  </tbody>\n",
              "</table>\n",
              "<p>10908 rows × 3 columns</p>\n",
              "</div>"
            ],
            "text/plain": [
              "                        City         Category  Total_Orders\n",
              "0                     Aachen        Furniture             2\n",
              "1                     Aachen  Office Supplies            14\n",
              "2                     Aachen       Technology             1\n",
              "3                      Aalen        Furniture             1\n",
              "4                      Aalen  Office Supplies             0\n",
              "...                      ...              ...           ...\n",
              "10903             eMbalenhle  Office Supplies             2\n",
              "10904             eMbalenhle       Technology             0\n",
              "10905  Águas Lindas de Goiás        Furniture             0\n",
              "10906  Águas Lindas de Goiás  Office Supplies             4\n",
              "10907  Águas Lindas de Goiás       Technology             0\n",
              "\n",
              "[10908 rows x 3 columns]"
            ]
          },
          "execution_count": 58,
          "metadata": {},
          "output_type": "execute_result"
        }
      ],
      "source": [
        "city_product = data.groupby(['City','Category']).agg(Total_Orders = ('Order ID','count')).reset_index()\n",
        "city_product"
      ]
    },
    {
      "cell_type": "code",
      "execution_count": null,
      "metadata": {
        "id": "XLCDW2CuM1GJ",
        "outputId": "4122f4ef-15cf-4b33-f02e-8fffbd24aea8"
      },
      "outputs": [
        {
          "data": {
            "image/png": "[encoded data removed]",
            "text/plain": [
              "<Figure size 1080x720 with 1 Axes>"
            ]
          },
          "metadata": {
            "needs_background": "light"
          },
          "output_type": "display_data"
        }
      ],
      "source": [
        "tech = city_product[(city_product['Category'] == 'Technology')].sort_values('Total_Orders',ascending=False)\n",
        "#tech = tech[tech['Total_Orders']== tech['Total_Orders'].max()]\n",
        "tech = tech.head(10)\n",
        "tech.plot(x= 'City',y = 'Total_Orders',kind= 'bar',figsize = (15,10),title = 'City with the most orders in the technology category')\n",
        "plt.ylabel('Values')\n",
        "plt.show()"
      ]
    },
    {
      "cell_type": "code",
      "execution_count": null,
      "metadata": {
        "run_control": {
          "marked": false
        },
        "id": "mFgtgs1eM1GK",
        "outputId": "e2a1bfbd-a09c-46fb-9303-48c883af13d2"
      },
      "outputs": [
        {
          "data": {
            "image/png": "[encoded data removed]",
            "text/plain": [
              "<Figure size 1080x720 with 1 Axes>"
            ]
          },
          "metadata": {
            "needs_background": "light"
          },
          "output_type": "display_data"
        }
      ],
      "source": [
        "furn = city_product[(city_product['Category'] == 'Furniture')].sort_values('Total_Orders',ascending=False)\n",
        "#furn = furn[furn['Total_Orders']== furn['Total_Orders'].max()]\n",
        "furn = furn.head(10)\n",
        "furn.plot(x= 'City',y = 'Total_Orders',kind= 'bar',figsize = (15,10),title = 'City with the most orders in the furniture category')\n",
        "plt.ylabel('Values')\n",
        "plt.show()"
      ]
    },
    {
      "cell_type": "code",
      "execution_count": null,
      "metadata": {
        "id": "arPXqGB4M1GN",
        "outputId": "08f4440e-0ce0-48b2-8f6e-980a2baa5c5d"
      },
      "outputs": [
        {
          "data": {
            "image/png": "[encoded data removed]",
            "text/plain": [
              "<Figure size 1080x720 with 1 Axes>"
            ]
          },
          "metadata": {
            "needs_background": "light"
          },
          "output_type": "display_data"
        }
      ],
      "source": [
        "office = city_product[(city_product['Category'] == 'Office Supplies')].sort_values('Total_Orders',ascending=False)\n",
        "#office = office[office['Total_Orders']== office['Total_Orders'].max()]\n",
        "office = office.head(10)\n",
        "office.plot(x= 'City',y = 'Total_Orders',kind= 'bar',figsize = (15,10),title = 'City with the most orders in the office category')\n",
        "plt.ylabel('Values')\n",
        "plt.show()"
      ]
    },
    {
      "cell_type": "markdown",
      "metadata": {
        "id": "ycb4nwq2M1GP"
      },
      "source": [
        "## which products are making loss?"
      ]
    },
    {
      "cell_type": "code",
      "execution_count": null,
      "metadata": {
        "id": "BZdiB-RMM1GU",
        "outputId": "8052814d-5ffb-406c-98f7-dbf6be6db3ab"
      },
      "outputs": [
        {
          "data": {
            "text/html": [
              "<div>\n",
              "<style scoped>\n",
              "    .dataframe tbody tr th:only-of-type {\n",
              "        vertical-align: middle;\n",
              "    }\n",
              "\n",
              "    .dataframe tbody tr th {\n",
              "        vertical-align: top;\n",
              "    }\n",
              "\n",
              "    .dataframe thead th {\n",
              "        text-align: right;\n",
              "    }\n",
              "</style>\n",
              "<table border=\"1\" class=\"dataframe\">\n",
              "  <thead>\n",
              "    <tr style=\"text-align: right;\">\n",
              "      <th></th>\n",
              "      <th>Product Name</th>\n",
              "      <th>Total_profit</th>\n",
              "    </tr>\n",
              "  </thead>\n",
              "  <tbody>\n",
              "    <tr>\n",
              "      <th>1007</th>\n",
              "      <td>Cubify CubeX 3D Printer Double Head Print</td>\n",
              "      <td>-8879.9704</td>\n",
              "    </tr>\n",
              "    <tr>\n",
              "      <th>2233</th>\n",
              "      <td>Lexmark MX611dhe Monochrome Laser Printer</td>\n",
              "      <td>-4589.9730</td>\n",
              "    </tr>\n",
              "    <tr>\n",
              "      <th>2414</th>\n",
              "      <td>Motorola Smart Phone, Cordless</td>\n",
              "      <td>-4447.0380</td>\n",
              "    </tr>\n",
              "    <tr>\n",
              "      <th>1008</th>\n",
              "      <td>Cubify CubeX 3D Printer Triple Head Print</td>\n",
              "      <td>-3839.9904</td>\n",
              "    </tr>\n",
              "    <tr>\n",
              "      <th>614</th>\n",
              "      <td>Bevis Round Table, Adjustable Height</td>\n",
              "      <td>-3649.8940</td>\n",
              "    </tr>\n",
              "    <tr>\n",
              "      <th>603</th>\n",
              "      <td>Bevis Computer Table, Fully Assembled</td>\n",
              "      <td>-3509.5638</td>\n",
              "    </tr>\n",
              "    <tr>\n",
              "      <th>2847</th>\n",
              "      <td>Rogers Lockers, Blue</td>\n",
              "      <td>-2893.4908</td>\n",
              "    </tr>\n",
              "    <tr>\n",
              "      <th>910</th>\n",
              "      <td>Chromcraft Bull-Nose Wood Oval Conference Tables &amp; Bases</td>\n",
              "      <td>-2876.1156</td>\n",
              "    </tr>\n",
              "    <tr>\n",
              "      <th>627</th>\n",
              "      <td>Bevis Wood Table, with Bottom Storage</td>\n",
              "      <td>-2782.5880</td>\n",
              "    </tr>\n",
              "    <tr>\n",
              "      <th>2221</th>\n",
              "      <td>Lesro Training Table, Rectangular</td>\n",
              "      <td>-2581.2834</td>\n",
              "    </tr>\n",
              "  </tbody>\n",
              "</table>\n",
              "</div>"
            ],
            "text/plain": [
              "                                                  Product Name  Total_profit\n",
              "1007                 Cubify CubeX 3D Printer Double Head Print    -8879.9704\n",
              "2233                 Lexmark MX611dhe Monochrome Laser Printer    -4589.9730\n",
              "2414                            Motorola Smart Phone, Cordless    -4447.0380\n",
              "1008                 Cubify CubeX 3D Printer Triple Head Print    -3839.9904\n",
              "614                       Bevis Round Table, Adjustable Height    -3649.8940\n",
              "603                      Bevis Computer Table, Fully Assembled    -3509.5638\n",
              "2847                                      Rogers Lockers, Blue    -2893.4908\n",
              "910   Chromcraft Bull-Nose Wood Oval Conference Tables & Bases    -2876.1156\n",
              "627                      Bevis Wood Table, with Bottom Storage    -2782.5880\n",
              "2221                         Lesro Training Table, Rectangular    -2581.2834"
            ]
          },
          "execution_count": 81,
          "metadata": {},
          "output_type": "execute_result"
        }
      ],
      "source": [
        "prod_profit = data.groupby('Product Name').agg(Total_profit= ('Profit','sum')).reset_index()\n",
        "prod_profit = prod_profit.sort_values('Total_profit')\n",
        "# Top ten products that are making losses\n",
        "prod_profit.head(10)"
      ]
    },
    {
      "cell_type": "code",
      "execution_count": null,
      "metadata": {
        "id": "EajJxWLEM1GY"
      },
      "outputs": [],
      "source": [
        ""
      ]
    },
    {
      "cell_type": "markdown",
      "metadata": {
        "id": "-e9FQoRuM1GZ"
      },
      "source": [
        "## Which segment provides more profit?"
      ]
    },
    {
      "cell_type": "code",
      "execution_count": null,
      "metadata": {
        "id": "L8S6IVhLM1Ga",
        "outputId": "63d3e7ec-3d0e-47ec-eb02-6c4e5f193e10"
      },
      "outputs": [
        {
          "data": {
            "text/html": [
              "<div>\n",
              "<style scoped>\n",
              "    .dataframe tbody tr th:only-of-type {\n",
              "        vertical-align: middle;\n",
              "    }\n",
              "\n",
              "    .dataframe tbody tr th {\n",
              "        vertical-align: top;\n",
              "    }\n",
              "\n",
              "    .dataframe thead th {\n",
              "        text-align: right;\n",
              "    }\n",
              "</style>\n",
              "<table border=\"1\" class=\"dataframe\">\n",
              "  <thead>\n",
              "    <tr style=\"text-align: right;\">\n",
              "      <th></th>\n",
              "      <th>Segment</th>\n",
              "      <th>Total_Profit</th>\n",
              "    </tr>\n",
              "  </thead>\n",
              "  <tbody>\n",
              "    <tr>\n",
              "      <th>0</th>\n",
              "      <td>Consumer</td>\n",
              "      <td>749239.78206</td>\n",
              "    </tr>\n",
              "    <tr>\n",
              "      <th>1</th>\n",
              "      <td>Corporate</td>\n",
              "      <td>441208.32866</td>\n",
              "    </tr>\n",
              "    <tr>\n",
              "      <th>2</th>\n",
              "      <td>Home Office</td>\n",
              "      <td>277009.18056</td>\n",
              "    </tr>\n",
              "  </tbody>\n",
              "</table>\n",
              "</div>"
            ],
            "text/plain": [
              "       Segment  Total_Profit\n",
              "0     Consumer  749239.78206\n",
              "1    Corporate  441208.32866\n",
              "2  Home Office  277009.18056"
            ]
          },
          "execution_count": 82,
          "metadata": {},
          "output_type": "execute_result"
        }
      ],
      "source": [
        "seg_profit = data.groupby('Segment').agg(Total_Profit = ('Profit','sum')).reset_index()\n",
        "seg_profit = seg_profit.sort_values('Total_Profit',ascending= False)\n",
        "seg_profit"
      ]
    },
    {
      "cell_type": "code",
      "execution_count": null,
      "metadata": {
        "id": "rifdrrwBM1Gb",
        "outputId": "e4bb961b-9a65-45bd-a868-22121e607cda"
      },
      "outputs": [
        {
          "data": {
            "image/png": "[encoded data removed]",
            "text/plain": [
              "<Figure size 720x576 with 1 Axes>"
            ]
          },
          "metadata": {
            "needs_background": "light"
          },
          "output_type": "display_data"
        }
      ],
      "source": [
        "seg_profit.plot(x=\"Segment\", y=[\"Total_Profit\"], kind=\"bar\", figsize=(10, 8))\n",
        "plt.ylabel('Total Profit')\n",
        "plt.title('A plot showing segment and total Profit')\n",
        "plt.show()"
      ]
    },
    {
      "cell_type": "code",
      "execution_count": null,
      "metadata": {
        "id": "eaE2G3YIM1Gh",
        "outputId": "eb4bf75b-da8c-41e2-84e8-5413ee54603e"
      },
      "outputs": [
        {
          "data": {
            "text/html": [
              "<div>\n",
              "<style scoped>\n",
              "    .dataframe tbody tr th:only-of-type {\n",
              "        vertical-align: middle;\n",
              "    }\n",
              "\n",
              "    .dataframe tbody tr th {\n",
              "        vertical-align: top;\n",
              "    }\n",
              "\n",
              "    .dataframe thead th {\n",
              "        text-align: right;\n",
              "    }\n",
              "</style>\n",
              "<table border=\"1\" class=\"dataframe\">\n",
              "  <thead>\n",
              "    <tr style=\"text-align: right;\">\n",
              "      <th></th>\n",
              "      <th>Segment</th>\n",
              "      <th>Total_Profit</th>\n",
              "    </tr>\n",
              "  </thead>\n",
              "  <tbody>\n",
              "    <tr>\n",
              "      <th>0</th>\n",
              "      <td>Consumer</td>\n",
              "      <td>749239.78206</td>\n",
              "    </tr>\n",
              "  </tbody>\n",
              "</table>\n",
              "</div>"
            ],
            "text/plain": [
              "    Segment  Total_Profit\n",
              "0  Consumer  749239.78206"
            ]
          },
          "execution_count": 84,
          "metadata": {},
          "output_type": "execute_result"
        }
      ],
      "source": [
        "seg_profit[seg_profit['Total_Profit'] == seg_profit['Total_Profit'].max() ]"
      ]
    },
    {
      "cell_type": "markdown",
      "metadata": {
        "id": "OZJpuxBRM1Gi"
      },
      "source": [
        "## what is the correlation between quantity and profit?"
      ]
    },
    {
      "cell_type": "code",
      "execution_count": null,
      "metadata": {
        "id": "JXWRGKtMM1Gi",
        "outputId": "31037ec3-dbfb-4530-f6e2-2fb387a33cd5"
      },
      "outputs": [
        {
          "data": {
            "image/png": "[encoded data removed]",
            "text/plain": [
              "<Figure size 432x288 with 2 Axes>"
            ]
          },
          "metadata": {
            "needs_background": "light"
          },
          "output_type": "display_data"
        }
      ],
      "source": [
        "quantity_profit = data[['Quantity','Profit']]\n",
        "cormat3 = quantity_profit.corr()\n",
        "sns.heatmap(cormat3,annot=True)\n",
        "plt.show()"
      ]
    },
    {
      "cell_type": "code",
      "execution_count": null,
      "metadata": {
        "id": "zB1VzVhvM1Go",
        "outputId": "0c29577f-d3a0-4565-c7e4-d4e8b841f225"
      },
      "outputs": [
        {
          "data": {
            "text/html": [
              "<div>\n",
              "<style scoped>\n",
              "    .dataframe tbody tr th:only-of-type {\n",
              "        vertical-align: middle;\n",
              "    }\n",
              "\n",
              "    .dataframe tbody tr th {\n",
              "        vertical-align: top;\n",
              "    }\n",
              "\n",
              "    .dataframe thead th {\n",
              "        text-align: right;\n",
              "    }\n",
              "</style>\n",
              "<table border=\"1\" class=\"dataframe\">\n",
              "  <thead>\n",
              "    <tr style=\"text-align: right;\">\n",
              "      <th></th>\n",
              "      <th>Quantity</th>\n",
              "      <th>Profit</th>\n",
              "    </tr>\n",
              "  </thead>\n",
              "  <tbody>\n",
              "    <tr>\n",
              "      <th>Quantity</th>\n",
              "      <td>1.000000</td>\n",
              "      <td>0.104365</td>\n",
              "    </tr>\n",
              "    <tr>\n",
              "      <th>Profit</th>\n",
              "      <td>0.104365</td>\n",
              "      <td>1.000000</td>\n",
              "    </tr>\n",
              "  </tbody>\n",
              "</table>\n",
              "</div>"
            ],
            "text/plain": [
              "          Quantity    Profit\n",
              "Quantity  1.000000  0.104365\n",
              "Profit    0.104365  1.000000"
            ]
          },
          "execution_count": 87,
          "metadata": {},
          "output_type": "execute_result"
        }
      ],
      "source": [
        "cormat3"
      ]
    },
    {
      "cell_type": "code",
      "execution_count": null,
      "metadata": {
        "id": "jbrqRpVsM1Gp"
      },
      "outputs": [],
      "source": [
        "# Quantity and profit has a positive linear correlation with weak strenth"
      ]
    },
    {
      "cell_type": "markdown",
      "metadata": {
        "id": "RuHNWQLhM1Gq"
      },
      "source": [
        "## What is the correlation between shipping cost and profit?"
      ]
    },
    {
      "cell_type": "code",
      "execution_count": null,
      "metadata": {
        "id": "3J-xAFuDM1Gu",
        "outputId": "69983d93-4f02-45ca-aebc-b00b2e0abdfb"
      },
      "outputs": [
        {
          "data": {
            "image/png": "[encoded data removed]",
            "text/plain": [
              "<Figure size 432x288 with 2 Axes>"
            ]
          },
          "metadata": {
            "needs_background": "light"
          },
          "output_type": "display_data"
        }
      ],
      "source": [
        "shiping_profit = data[['Shipping Cost','Profit']]\n",
        "cormat3 = shiping_profit.corr()\n",
        "sns.heatmap(cormat3,annot=True)\n",
        "plt.show()"
      ]
    },
    {
      "cell_type": "code",
      "execution_count": null,
      "metadata": {
        "id": "OT1jymS_M1Gv",
        "outputId": "42841bfe-2249-4445-aabb-103a25cacdca"
      },
      "outputs": [
        {
          "data": {
            "text/html": [
              "<div>\n",
              "<style scoped>\n",
              "    .dataframe tbody tr th:only-of-type {\n",
              "        vertical-align: middle;\n",
              "    }\n",
              "\n",
              "    .dataframe tbody tr th {\n",
              "        vertical-align: top;\n",
              "    }\n",
              "\n",
              "    .dataframe thead th {\n",
              "        text-align: right;\n",
              "    }\n",
              "</style>\n",
              "<table border=\"1\" class=\"dataframe\">\n",
              "  <thead>\n",
              "    <tr style=\"text-align: right;\">\n",
              "      <th></th>\n",
              "      <th>Shipping Cost</th>\n",
              "      <th>Profit</th>\n",
              "    </tr>\n",
              "  </thead>\n",
              "  <tbody>\n",
              "    <tr>\n",
              "      <th>Shipping Cost</th>\n",
              "      <td>1.000000</td>\n",
              "      <td>0.354441</td>\n",
              "    </tr>\n",
              "    <tr>\n",
              "      <th>Profit</th>\n",
              "      <td>0.354441</td>\n",
              "      <td>1.000000</td>\n",
              "    </tr>\n",
              "  </tbody>\n",
              "</table>\n",
              "</div>"
            ],
            "text/plain": [
              "               Shipping Cost    Profit\n",
              "Shipping Cost       1.000000  0.354441\n",
              "Profit              0.354441  1.000000"
            ]
          },
          "execution_count": 90,
          "metadata": {},
          "output_type": "execute_result"
        }
      ],
      "source": [
        "cormat3"
      ]
    },
    {
      "cell_type": "code",
      "execution_count": null,
      "metadata": {
        "id": "FHpduvR3M1Gx"
      },
      "outputs": [],
      "source": [
        "# Shiping cost and profit has a positive linear correlation with moderate strenth"
      ]
    },
    {
      "cell_type": "markdown",
      "metadata": {
        "id": "fwCftD6uM1Gx"
      },
      "source": [
        "## Which order priority yields more sales?"
      ]
    },
    {
      "cell_type": "code",
      "execution_count": null,
      "metadata": {
        "id": "9h72dHaiM1G2",
        "outputId": "1d9e2a44-fab1-4068-c1e7-cb94e2b89ead"
      },
      "outputs": [
        {
          "data": {
            "text/html": [
              "<div>\n",
              "<style scoped>\n",
              "    .dataframe tbody tr th:only-of-type {\n",
              "        vertical-align: middle;\n",
              "    }\n",
              "\n",
              "    .dataframe tbody tr th {\n",
              "        vertical-align: top;\n",
              "    }\n",
              "\n",
              "    .dataframe thead th {\n",
              "        text-align: right;\n",
              "    }\n",
              "</style>\n",
              "<table border=\"1\" class=\"dataframe\">\n",
              "  <thead>\n",
              "    <tr style=\"text-align: right;\">\n",
              "      <th></th>\n",
              "      <th>Order Priority</th>\n",
              "      <th>Total_sales</th>\n",
              "    </tr>\n",
              "  </thead>\n",
              "  <tbody>\n",
              "    <tr>\n",
              "      <th>3</th>\n",
              "      <td>Medium</td>\n",
              "      <td>7.280892e+06</td>\n",
              "    </tr>\n",
              "    <tr>\n",
              "      <th>1</th>\n",
              "      <td>High</td>\n",
              "      <td>3.807548e+06</td>\n",
              "    </tr>\n",
              "    <tr>\n",
              "      <th>0</th>\n",
              "      <td>Critical</td>\n",
              "      <td>9.862355e+05</td>\n",
              "    </tr>\n",
              "    <tr>\n",
              "      <th>2</th>\n",
              "      <td>Low</td>\n",
              "      <td>5.678259e+05</td>\n",
              "    </tr>\n",
              "  </tbody>\n",
              "</table>\n",
              "</div>"
            ],
            "text/plain": [
              "  Order Priority   Total_sales\n",
              "3         Medium  7.280892e+06\n",
              "1           High  3.807548e+06\n",
              "0       Critical  9.862355e+05\n",
              "2            Low  5.678259e+05"
            ]
          },
          "execution_count": 91,
          "metadata": {},
          "output_type": "execute_result"
        }
      ],
      "source": [
        "priority_sales = data.groupby('Order Priority').agg(Total_sales = ('Sales','sum')).reset_index()\n",
        "priority_sales = priority_sales.sort_values('Total_sales',ascending = False)\n",
        "priority_sales"
      ]
    },
    {
      "cell_type": "code",
      "execution_count": null,
      "metadata": {
        "id": "Us0SkFx-M1G3",
        "outputId": "9899a109-d10f-40f7-b3f4-4bad216b91f7"
      },
      "outputs": [
        {
          "data": {
            "image/png": "[encoded data removed]",
            "text/plain": [
              "<Figure size 720x576 with 1 Axes>"
            ]
          },
          "metadata": {
            "needs_background": "light"
          },
          "output_type": "display_data"
        }
      ],
      "source": [
        "priority_sales.plot(x=\"Order Priority\", y=[\"Total_sales\"], kind=\"bar\", figsize=(10, 8))\n",
        "plt.ylabel('Total Sales')\n",
        "plt.title('A plot showing order priority and total Sales')\n",
        "plt.ticklabel_format(style='plain',axis='y')\n",
        "plt.show()"
      ]
    },
    {
      "cell_type": "code",
      "execution_count": null,
      "metadata": {
        "id": "wEILWRT5M1G6",
        "outputId": "11a51609-18c3-4ac1-e095-d49542622233"
      },
      "outputs": [
        {
          "data": {
            "text/html": [
              "<div>\n",
              "<style scoped>\n",
              "    .dataframe tbody tr th:only-of-type {\n",
              "        vertical-align: middle;\n",
              "    }\n",
              "\n",
              "    .dataframe tbody tr th {\n",
              "        vertical-align: top;\n",
              "    }\n",
              "\n",
              "    .dataframe thead th {\n",
              "        text-align: right;\n",
              "    }\n",
              "</style>\n",
              "<table border=\"1\" class=\"dataframe\">\n",
              "  <thead>\n",
              "    <tr style=\"text-align: right;\">\n",
              "      <th></th>\n",
              "      <th>Order Priority</th>\n",
              "      <th>Total_sales</th>\n",
              "    </tr>\n",
              "  </thead>\n",
              "  <tbody>\n",
              "    <tr>\n",
              "      <th>3</th>\n",
              "      <td>Medium</td>\n",
              "      <td>7.280892e+06</td>\n",
              "    </tr>\n",
              "  </tbody>\n",
              "</table>\n",
              "</div>"
            ],
            "text/plain": [
              "  Order Priority   Total_sales\n",
              "3         Medium  7.280892e+06"
            ]
          },
          "execution_count": 93,
          "metadata": {},
          "output_type": "execute_result"
        }
      ],
      "source": [
        "priority_sales[priority_sales['Total_sales'] == priority_sales['Total_sales'].max() ]"
      ]
    },
    {
      "cell_type": "markdown",
      "metadata": {
        "id": "W8iXZdxHM1HE"
      },
      "source": [
        "## What is the average shipping cost to each region?"
      ]
    },
    {
      "cell_type": "code",
      "execution_count": null,
      "metadata": {
        "id": "y-rx6p5dM1HF",
        "outputId": "1fe587dc-cdbe-4e60-a9aa-f6b18368cfee"
      },
      "outputs": [
        {
          "data": {
            "text/html": [
              "<div>\n",
              "<style scoped>\n",
              "    .dataframe tbody tr th:only-of-type {\n",
              "        vertical-align: middle;\n",
              "    }\n",
              "\n",
              "    .dataframe tbody tr th {\n",
              "        vertical-align: top;\n",
              "    }\n",
              "\n",
              "    .dataframe thead th {\n",
              "        text-align: right;\n",
              "    }\n",
              "</style>\n",
              "<table border=\"1\" class=\"dataframe\">\n",
              "  <thead>\n",
              "    <tr style=\"text-align: right;\">\n",
              "      <th></th>\n",
              "      <th>Region</th>\n",
              "      <th>Average_Shipping_Cost</th>\n",
              "    </tr>\n",
              "  </thead>\n",
              "  <tbody>\n",
              "    <tr>\n",
              "      <th>8</th>\n",
              "      <td>North Asia</td>\n",
              "      <td>40.646112</td>\n",
              "    </tr>\n",
              "    <tr>\n",
              "      <th>4</th>\n",
              "      <td>Central Asia</td>\n",
              "      <td>38.003003</td>\n",
              "    </tr>\n",
              "    <tr>\n",
              "      <th>9</th>\n",
              "      <td>Oceania</td>\n",
              "      <td>34.593780</td>\n",
              "    </tr>\n",
              "    <tr>\n",
              "      <th>11</th>\n",
              "      <td>Southeast Asia</td>\n",
              "      <td>29.937948</td>\n",
              "    </tr>\n",
              "    <tr>\n",
              "      <th>7</th>\n",
              "      <td>North</td>\n",
              "      <td>27.476299</td>\n",
              "    </tr>\n",
              "    <tr>\n",
              "      <th>3</th>\n",
              "      <td>Central</td>\n",
              "      <td>26.710494</td>\n",
              "    </tr>\n",
              "    <tr>\n",
              "      <th>6</th>\n",
              "      <td>East</td>\n",
              "      <td>25.542001</td>\n",
              "    </tr>\n",
              "    <tr>\n",
              "      <th>10</th>\n",
              "      <td>South</td>\n",
              "      <td>25.353509</td>\n",
              "    </tr>\n",
              "    <tr>\n",
              "      <th>12</th>\n",
              "      <td>West</td>\n",
              "      <td>23.887687</td>\n",
              "    </tr>\n",
              "    <tr>\n",
              "      <th>2</th>\n",
              "      <td>Caribbean</td>\n",
              "      <td>21.059260</td>\n",
              "    </tr>\n",
              "    <tr>\n",
              "      <th>1</th>\n",
              "      <td>Canada</td>\n",
              "      <td>19.285495</td>\n",
              "    </tr>\n",
              "    <tr>\n",
              "      <th>0</th>\n",
              "      <td>Africa</td>\n",
              "      <td>19.215058</td>\n",
              "    </tr>\n",
              "    <tr>\n",
              "      <th>5</th>\n",
              "      <td>EMEA</td>\n",
              "      <td>17.573221</td>\n",
              "    </tr>\n",
              "  </tbody>\n",
              "</table>\n",
              "</div>"
            ],
            "text/plain": [
              "            Region  Average_Shipping_Cost\n",
              "8       North Asia              40.646112\n",
              "4     Central Asia              38.003003\n",
              "9          Oceania              34.593780\n",
              "11  Southeast Asia              29.937948\n",
              "7            North              27.476299\n",
              "3          Central              26.710494\n",
              "6             East              25.542001\n",
              "10           South              25.353509\n",
              "12            West              23.887687\n",
              "2        Caribbean              21.059260\n",
              "1           Canada              19.285495\n",
              "0           Africa              19.215058\n",
              "5             EMEA              17.573221"
            ]
          },
          "execution_count": 94,
          "metadata": {},
          "output_type": "execute_result"
        }
      ],
      "source": [
        "ave_ship_region = data.groupby('Region').agg(Average_Shipping_Cost = ('Shipping Cost','mean')).reset_index()\n",
        "ave_ship_region = ave_ship_region.sort_values('Average_Shipping_Cost',ascending=False)\n",
        "ave_ship_region"
      ]
    },
    {
      "cell_type": "code",
      "execution_count": null,
      "metadata": {
        "id": "iGhHry0kM1HG",
        "outputId": "de1ca264-a555-4b92-b0d2-735fc94c3917"
      },
      "outputs": [
        {
          "data": {
            "image/png": "[encoded data removed]",
            "text/plain": [
              "<Figure size 720x576 with 1 Axes>"
            ]
          },
          "metadata": {
            "needs_background": "light"
          },
          "output_type": "display_data"
        }
      ],
      "source": [
        "ave_ship_region.plot(x=\"Region\", y=[\"Average_Shipping_Cost\"], kind=\"bar\", figsize=(10, 8))\n",
        "plt.ylabel('Average Shipping Cost')\n",
        "plt.title('A plot showing Region and Average shipping cost')\n",
        "plt.ticklabel_format(style='plain',axis='y')\n",
        "plt.show()"
      ]
    },
    {
      "cell_type": "markdown",
      "metadata": {
        "id": "_KvcDLYyM1HM"
      },
      "source": [
        "## What product categories should be targetted to the different markets?\n",
        "\n"
      ]
    },
    {
      "cell_type": "code",
      "execution_count": null,
      "metadata": {
        "id": "ExVqIAmxM1HN"
      },
      "outputs": [],
      "source": [
        "# For APAC, Africa, EU, US,EMEA Techology should be targeted\n",
        "# For LATAM we should target the furniture category\n",
        "# For Canada we should target the office supply"
      ]
    },
    {
      "cell_type": "markdown",
      "metadata": {
        "id": "mi8FW2O5M1HO"
      },
      "source": [
        "## Does the interval between the order date and the shipping date affect sale and profit"
      ]
    },
    {
      "cell_type": "code",
      "execution_count": null,
      "metadata": {
        "id": "9bOllvR9M1HS",
        "outputId": "62afa84a-4249-450c-9c6e-96919e1b29b4"
      },
      "outputs": [
        {
          "data": {
            "image/png": "[encoded data removed]",
            "text/plain": [
              "<Figure size 432x288 with 2 Axes>"
            ]
          },
          "metadata": {
            "needs_background": "light"
          },
          "output_type": "display_data"
        }
      ],
      "source": [
        "effect = data[['Intervals','Profit','Sales']]\n",
        "cormat_effect = effect.corr()\n",
        "sns.heatmap(cormat_effect,annot=True)\n",
        "plt.show()"
      ]
    },
    {
      "cell_type": "code",
      "execution_count": null,
      "metadata": {
        "id": "4g15Jr4hM1HT"
      },
      "outputs": [],
      "source": [
        ""
      ]
    }
  ],
  "metadata": {
    "hide_input": false,
    "kernelspec": {
      "display_name": "Python 3 (ipykernel)",
      "language": "python",
      "name": "python3"
    },
    "language_info": {
      "codemirror_mode": {
        "name": "ipython",
        "version": 3
      },
      "file_extension": ".py",
      "mimetype": "text/x-python",
      "name": "python",
      "nbconvert_exporter": "python",
      "pygments_lexer": "ipython3",
      "version": "3.9.7"
    },
    "nbTranslate": {
      "displayLangs": [
        "*"
      ],
      "hotkey": "alt-t",
      "langInMainMenu": true,
      "sourceLang": "en",
      "targetLang": "fr",
      "useGoogleTranslate": true
    },
    "toc": {
      "base_numbering": 1,
      "nav_menu": {},
      "number_sections": true,
      "sideBar": true,
      "skip_h1_title": false,
      "title_cell": "Table of Contents",
      "title_sidebar": "Contents",
      "toc_cell": false,
      "toc_position": {},
      "toc_section_display": true,
      "toc_window_display": false
    },
    "varInspector": {
      "cols": {
        "lenName": 16,
        "lenType": 16,
        "lenVar": 40
      },
      "kernels_config": {
        "python": {
          "delete_cmd_postfix": "",
          "delete_cmd_prefix": "del ",
          "library": "var_list.py",
          "varRefreshCmd": "print(var_dic_list())"
        },
        "r": {
          "delete_cmd_postfix": ") ",
          "delete_cmd_prefix": "rm(",
          "library": "var_list.r",
          "varRefreshCmd": "cat(var_dic_list()) "
        }
      },
      "types_to_exclude": [
        "module",
        "function",
        "builtin_function_or_method",
        "instance",
        "_Feature"
      ],
      "window_display": false
    },
    "colab": {
      "name": "Superstore Data Analysis Project).ipynb",
      "provenance": []
    }
  },
  "nbformat": 4,
  "nbformat_minor": 0
}